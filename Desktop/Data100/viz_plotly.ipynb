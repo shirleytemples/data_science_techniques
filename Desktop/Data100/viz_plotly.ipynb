{
 "cells": [
  {
   "cell_type": "code",
   "execution_count": 2,
   "id": "ccb103b9-6362-4939-bcbd-94f1204d226a",
   "metadata": {},
   "outputs": [
    {
     "name": "stderr",
     "output_type": "stream",
     "text": [
      "/var/folders/s2/cw87rxkn0bx03lwlr3n06skh0001l0/T/ipykernel_9267/2318198399.py:29: DeprecationWarning:\n",
      "\n",
      "`set_matplotlib_formats` is deprecated since IPython 7.23, directly use `matplotlib_inline.backend_inline.set_matplotlib_formats()`\n",
      "\n"
     ]
    }
   ],
   "source": [
    "# Reference: https://jupyterbook.org/interactive/hiding.html\n",
    "# Use {hide, remove}-{input, output, cell} tags to hiding content\n",
    "\n",
    "import numpy as np\n",
    "import matplotlib.pyplot as plt\n",
    "import pandas as pd\n",
    "import seaborn as sns\n",
    "%matplotlib inline\n",
    "import ipywidgets as widgets\n",
    "from ipywidgets import interact, interactive, fixed, interact_manual\n",
    "from IPython.display import display, set_matplotlib_formats\n",
    "import myst_nb\n",
    "\n",
    "import plotly\n",
    "import plotly.graph_objects as go\n",
    "import plotly.express as px\n",
    "from plotly.subplots import make_subplots\n",
    "import plotly.io as pio\n",
    "pio.renderers.default = 'plotly_mimetype+svg'\n",
    "pio.templates['book'] = go.layout.Template(\n",
    "    layout=dict(\n",
    "        margin=dict(l=10, r=10, t=10, b=10),\n",
    "        autosize=True,\n",
    "        width=350, height=250,\n",
    "    )\n",
    ")\n",
    "pio.templates.default = 'seaborn+book'\n",
    "\n",
    "set_matplotlib_formats('svg')\n",
    "sns.set()\n",
    "np.set_printoptions(threshold=20, precision=2, suppress=True)\n",
    "pd.set_option('display.max_rows', 7)\n",
    "pd.set_option('display.max_columns', 8)\n",
    "#pd.set_option('precision', 2)\n",
    "# This option stops scientific notation for pandas\n",
    "# pd.set_option('display.float_format', '{:.2f}'.format)\n",
    "\n",
    "def display_df(df, rows=pd.options.display.max_rows,\n",
    "               cols=pd.options.display.max_columns):\n",
    "    with pd.option_context('display.max_rows', rows,\n",
    "                           'display.max_columns', cols):\n",
    "        display(df)"
   ]
  },
  {
   "cell_type": "code",
   "execution_count": 3,
   "id": "489c6660-d496-4bcd-a9be-7fc38e3dc1d0",
   "metadata": {},
   "outputs": [],
   "source": [
    "_clear = ['bingroup']\n",
    "\n",
    "def _clear_props(traces):\n",
    "    for trace in traces:\n",
    "        for prop in _clear:\n",
    "            if hasattr(trace, prop):\n",
    "                trace.update({prop: None})\n",
    "\n",
    "def left_right(left, right, width=700, height=250, **kwargs):\n",
    "    fig = make_subplots(cols=2, **kwargs)\n",
    "    fig.update_layout(width=width, height=height)\n",
    "    \n",
    "    t1 = list(left.select_traces())\n",
    "    t2 = list(right.select_traces())\n",
    "    _clear_props([*t1, *t2])\n",
    "    fig.add_traces(t1, rows=1, cols=1)\n",
    "    fig.add_traces(t2, rows=1, cols=2)\n",
    "    return fig\n",
    "\n",
    "def margin(fig, **kwargs):\n",
    "    return fig.update_layout(margin=kwargs)\n",
    "\n",
    "def to_plotly_text(text):\n",
    "    return text.strip().replace('\\n', '<br>')"
   ]
  },
  {
   "cell_type": "markdown",
   "id": "e9c0124e-93ac-4d24-8b8b-55a52f212273",
   "metadata": {},
   "source": [
    "## Creating Plots Using plotly"
   ]
  },
  {
   "cell_type": "markdown",
   "id": "a058e556-4345-493f-8f91-da31bf652e97",
   "metadata": {},
   "source": [
    "In this section, we cover the basics of the plotly Python package. plotly is the main tool we use in this book to create plots.\n",
    "\n",
    "The plotly package has several advantages over other plotting libraries. First, it creates interactive plots rather than static images. When you create a plot in plotly, you can pan and zoom to see parts of the plot that are too small to see normally. You can also hover over plot elements, like the symbols in a scatter plot, to see the raw data values. Second, it can save plots using the SVG file format, which means that images appear sharp even when zoomed in. If you're reading this chapter in a PDF or paper copy of the book, we used this feature to render plot images. Finally, it has a simple API for creating basic plots, which helps when you're doing exploratory analysis and want to quickly create many plots.\n",
    "\n",
    "We'll go over the fundamentals of plotly in this section. We recommend using the official plotly documentation if you encounter something that isn't covered here 1.\n",
    "\n"
   ]
  },
  {
   "cell_type": "markdown",
   "id": "b1a0fe05-b868-4330-bcbe-755c4df3fd87",
   "metadata": {},
   "source": [
    "## Figure and Trace Objects\n",
    "Every plot in plotly is wrapped in a Figure object. Figure objects keep track of what plots to draw. For instance, a single Figure can draw a scatter plot on the left and a line plot on the right. Figure objects also keep track of the plot layout, which includes the size of the plot, title, legend, and annotations.\n",
    "\n",
    "Let's look at an example using the dataset of dog breeds."
   ]
  },
  {
   "cell_type": "code",
   "execution_count": null,
   "id": "ceda041a-ca0f-4ea3-89c0-96a688815df1",
   "metadata": {},
   "outputs": [],
   "source": []
  }
 ],
 "metadata": {
  "kernelspec": {
   "display_name": "Python 3 (ipykernel)",
   "language": "python",
   "name": "python3"
  },
  "language_info": {
   "codemirror_mode": {
    "name": "ipython",
    "version": 3
   },
   "file_extension": ".py",
   "mimetype": "text/x-python",
   "name": "python",
   "nbconvert_exporter": "python",
   "pygments_lexer": "ipython3",
   "version": "3.9.12"
  }
 },
 "nbformat": 4,
 "nbformat_minor": 5
}
