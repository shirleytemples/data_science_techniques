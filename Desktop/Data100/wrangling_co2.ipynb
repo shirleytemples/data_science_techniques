{
 "cells": [
  {
   "cell_type": "markdown",
   "id": "02400759-a51a-4c7f-918e-c2b321abca65",
   "metadata": {},
   "source": [
    "## 9.1. Example: Wrangling CO2 Measurements from Mauna Loa Observatory"
   ]
  },
  {
   "cell_type": "markdown",
   "id": "d6b88f92-038f-4864-aa5f-7b937b0e61a8",
   "metadata": {},
   "source": [
    "Carbon dioxide (CO2) is an important signal of global warming. CO2 is a gas that traps heat in the earth’s atmosphere. Without it, earth would be impossibly cold, but increases in CO2 also drives global warming and threatens our planet’s climate. CO2 concentrations have been monitored at Mauna Loa Observatory since 1958, and these data offer a crucial benchmark for understanding the threat of global warming.\n",
    "\n",
    "In this example, we introduce the concepts of data wrangling: data-quality checks, handling missing values, feature transformations, and table reshaping. These data are in the file ```data/co2_mm_mlo.txt```. Let’s begin by checking the formatting, encoding, and size of the source before we load it into a data frame."
   ]
  },
  {
   "cell_type": "code",
   "execution_count": 28,
   "id": "922a802d-b31b-44a1-9877-ea8d55653f70",
   "metadata": {},
   "outputs": [
    {
     "name": "stdout",
     "output_type": "stream",
     "text": [
      "File size: 49.93 KiB\n",
      "File encoding: ascii\n"
     ]
    }
   ],
   "source": [
    "from pathlib import Path\n",
    "import os\n",
    "import chardet\n",
    "import numpy as np\n",
    "import pandas as pd\n",
    "import seaborn as sns\n",
    "import matplotlib.pyplot as plt\n",
    "\n",
    "co2_file = Path('data') / 'co2_mm_mlo.txt'\n",
    "\n",
    "print(f'File size: {os.path.getsize(co2_file) / 1024:0.2f} KiB')\n",
    "\n",
    "encoding = chardet.detect(co2_file.read_bytes())['encoding']\n",
    "print(f'File encoding: {encoding}')"
   ]
  },
  {
   "cell_type": "markdown",
   "id": "b4c6ca22-84cb-40d9-bdbe-f62528654b82",
   "metadata": {},
   "source": [
    "We have found that the file is plain text with ASCII encoding and about 50 KiB. Since the file is not particularly large, we shouldn’t have any difficulty loading it into a data frame, but we first need to determine the file’s format. To do this, let’s look at the first few lines in the file."
   ]
  },
  {
   "cell_type": "code",
   "execution_count": 9,
   "id": "2a84f64d-0818-4dce-89e2-1fde7f15cd88",
   "metadata": {},
   "outputs": [
    {
     "data": {
      "text/plain": [
       "811"
      ]
     },
     "execution_count": 9,
     "metadata": {},
     "output_type": "execute_result"
    }
   ],
   "source": [
    "lines = co2_file.read_text().split('\\n')\n",
    "len(lines)"
   ]
  },
  {
   "cell_type": "code",
   "execution_count": 10,
   "id": "1f303ba8-a091-4fe4-8a2c-b26887564728",
   "metadata": {},
   "outputs": [
    {
     "data": {
      "text/plain": [
       "['# --------------------------------------------------------------------',\n",
       " '# USE OF NOAA ESRL DATA',\n",
       " '# ',\n",
       " '# These data are made freely available to the public and the',\n",
       " '# scientific community in the belief that their wide dissemination',\n",
       " '# will lead to greater understanding and new scientific insights.']"
      ]
     },
     "execution_count": 10,
     "metadata": {},
     "output_type": "execute_result"
    }
   ],
   "source": [
    "lines[:6]"
   ]
  },
  {
   "cell_type": "markdown",
   "id": "42ec3004-3fe5-4ee2-a3dc-fd5821a5796b",
   "metadata": {},
   "source": [
    "We see that the file begins with information about the data source. We should read this documentation before starting our analysis, but some times the urge to plunge into the analysis wins over and we just start mucking about and discover properties of the data as we go. So let’s quickly find where the actual data values are located."
   ]
  },
  {
   "cell_type": "code",
   "execution_count": 11,
   "id": "aeb6d457-cd12-460f-802b-9163dfa3d396",
   "metadata": {},
   "outputs": [
    {
     "data": {
      "text/plain": [
       "['#',\n",
       " '#            decimal     average   interpolated    trend    #days',\n",
       " '#             date                             (season corr)',\n",
       " '1958   3    1958.208      315.71      315.71      314.62     -1',\n",
       " '1958   4    1958.292      317.45      317.45      315.29     -1',\n",
       " '1958   5    1958.375      317.50      317.50      314.71     -1',\n",
       " '1958   6    1958.458      -99.99      317.10      314.85     -1',\n",
       " '1958   7    1958.542      315.86      315.86      314.98     -1',\n",
       " '1958   8    1958.625      314.93      314.93      315.94     -1',\n",
       " '1958   9    1958.708      313.20      313.20      315.91     -1']"
      ]
     },
     "execution_count": 11,
     "metadata": {},
     "output_type": "execute_result"
    }
   ],
   "source": [
    "lines[69:79]"
   ]
  },
  {
   "cell_type": "markdown",
   "id": "a8f1630c-5e40-4df2-aca5-f91b157c4842",
   "metadata": {},
   "source": [
    "We have found the data begins on the 73rd line of the file. We also spot some relevant characteristics:"
   ]
  },
  {
   "cell_type": "markdown",
   "id": "9eefa223-dde7-4c8f-a7e3-70fac87963d3",
   "metadata": {},
   "source": [
    "1. The values are separated by white space, possibly tabs.\n",
    "\n",
    "2. The data line up down the rows. For example, the month appears in 7th to 8th position of each line.\n",
    "\n",
    "3. The 71st and 72nd lines in the file contain column headings split over two lines."
   ]
  },
  {
   "cell_type": "markdown",
   "id": "85e89cc1-b489-426d-b5a5-295deac38e3f",
   "metadata": {},
   "source": [
    "We can use read_csv to read the data into a Pandas data frame, and we provide arguments to specify that the separators are white space, there is no header (we will set our own column names), and to skip the first 72 rows of the file."
   ]
  },
  {
   "cell_type": "code",
   "execution_count": 12,
   "id": "7c9ece50-6433-4ac7-975b-d9bf0d47f40b",
   "metadata": {},
   "outputs": [
    {
     "data": {
      "text/html": [
       "<div>\n",
       "<style scoped>\n",
       "    .dataframe tbody tr th:only-of-type {\n",
       "        vertical-align: middle;\n",
       "    }\n",
       "\n",
       "    .dataframe tbody tr th {\n",
       "        vertical-align: top;\n",
       "    }\n",
       "\n",
       "    .dataframe thead th {\n",
       "        text-align: right;\n",
       "    }\n",
       "</style>\n",
       "<table border=\"1\" class=\"dataframe\">\n",
       "  <thead>\n",
       "    <tr style=\"text-align: right;\">\n",
       "      <th></th>\n",
       "      <th>Yr</th>\n",
       "      <th>Mo</th>\n",
       "      <th>DecDate</th>\n",
       "      <th>Avg</th>\n",
       "      <th>Int</th>\n",
       "      <th>Trend</th>\n",
       "      <th>days</th>\n",
       "    </tr>\n",
       "  </thead>\n",
       "  <tbody>\n",
       "    <tr>\n",
       "      <th>0</th>\n",
       "      <td>1958</td>\n",
       "      <td>3</td>\n",
       "      <td>1958.208</td>\n",
       "      <td>315.71</td>\n",
       "      <td>315.71</td>\n",
       "      <td>314.62</td>\n",
       "      <td>-1</td>\n",
       "    </tr>\n",
       "    <tr>\n",
       "      <th>1</th>\n",
       "      <td>1958</td>\n",
       "      <td>4</td>\n",
       "      <td>1958.292</td>\n",
       "      <td>317.45</td>\n",
       "      <td>317.45</td>\n",
       "      <td>315.29</td>\n",
       "      <td>-1</td>\n",
       "    </tr>\n",
       "    <tr>\n",
       "      <th>2</th>\n",
       "      <td>1958</td>\n",
       "      <td>5</td>\n",
       "      <td>1958.375</td>\n",
       "      <td>317.50</td>\n",
       "      <td>317.50</td>\n",
       "      <td>314.71</td>\n",
       "      <td>-1</td>\n",
       "    </tr>\n",
       "    <tr>\n",
       "      <th>3</th>\n",
       "      <td>1958</td>\n",
       "      <td>6</td>\n",
       "      <td>1958.458</td>\n",
       "      <td>-99.99</td>\n",
       "      <td>317.10</td>\n",
       "      <td>314.85</td>\n",
       "      <td>-1</td>\n",
       "    </tr>\n",
       "    <tr>\n",
       "      <th>4</th>\n",
       "      <td>1958</td>\n",
       "      <td>7</td>\n",
       "      <td>1958.542</td>\n",
       "      <td>315.86</td>\n",
       "      <td>315.86</td>\n",
       "      <td>314.98</td>\n",
       "      <td>-1</td>\n",
       "    </tr>\n",
       "    <tr>\n",
       "      <th>...</th>\n",
       "      <td>...</td>\n",
       "      <td>...</td>\n",
       "      <td>...</td>\n",
       "      <td>...</td>\n",
       "      <td>...</td>\n",
       "      <td>...</td>\n",
       "      <td>...</td>\n",
       "    </tr>\n",
       "    <tr>\n",
       "      <th>733</th>\n",
       "      <td>2019</td>\n",
       "      <td>4</td>\n",
       "      <td>2019.292</td>\n",
       "      <td>413.32</td>\n",
       "      <td>413.32</td>\n",
       "      <td>410.49</td>\n",
       "      <td>26</td>\n",
       "    </tr>\n",
       "    <tr>\n",
       "      <th>734</th>\n",
       "      <td>2019</td>\n",
       "      <td>5</td>\n",
       "      <td>2019.375</td>\n",
       "      <td>414.66</td>\n",
       "      <td>414.66</td>\n",
       "      <td>411.20</td>\n",
       "      <td>28</td>\n",
       "    </tr>\n",
       "    <tr>\n",
       "      <th>735</th>\n",
       "      <td>2019</td>\n",
       "      <td>6</td>\n",
       "      <td>2019.458</td>\n",
       "      <td>413.92</td>\n",
       "      <td>413.92</td>\n",
       "      <td>411.58</td>\n",
       "      <td>27</td>\n",
       "    </tr>\n",
       "    <tr>\n",
       "      <th>736</th>\n",
       "      <td>2019</td>\n",
       "      <td>7</td>\n",
       "      <td>2019.542</td>\n",
       "      <td>411.77</td>\n",
       "      <td>411.77</td>\n",
       "      <td>411.43</td>\n",
       "      <td>23</td>\n",
       "    </tr>\n",
       "    <tr>\n",
       "      <th>737</th>\n",
       "      <td>2019</td>\n",
       "      <td>8</td>\n",
       "      <td>2019.625</td>\n",
       "      <td>409.95</td>\n",
       "      <td>409.95</td>\n",
       "      <td>411.84</td>\n",
       "      <td>29</td>\n",
       "    </tr>\n",
       "  </tbody>\n",
       "</table>\n",
       "<p>738 rows × 7 columns</p>\n",
       "</div>"
      ],
      "text/plain": [
       "       Yr  Mo   DecDate     Avg     Int   Trend  days\n",
       "0    1958   3  1958.208  315.71  315.71  314.62    -1\n",
       "1    1958   4  1958.292  317.45  317.45  315.29    -1\n",
       "2    1958   5  1958.375  317.50  317.50  314.71    -1\n",
       "3    1958   6  1958.458  -99.99  317.10  314.85    -1\n",
       "4    1958   7  1958.542  315.86  315.86  314.98    -1\n",
       "..    ...  ..       ...     ...     ...     ...   ...\n",
       "733  2019   4  2019.292  413.32  413.32  410.49    26\n",
       "734  2019   5  2019.375  414.66  414.66  411.20    28\n",
       "735  2019   6  2019.458  413.92  413.92  411.58    27\n",
       "736  2019   7  2019.542  411.77  411.77  411.43    23\n",
       "737  2019   8  2019.625  409.95  409.95  411.84    29\n",
       "\n",
       "[738 rows x 7 columns]"
      ]
     },
     "execution_count": 12,
     "metadata": {},
     "output_type": "execute_result"
    }
   ],
   "source": [
    "co2 = pd.read_csv('data/co2_mm_mlo.txt', header=None, skiprows=72, \n",
    "                  sep='\\s+',\n",
    "                  names=['Yr', 'Mo', 'DecDate', 'Avg', 'Int', 'Trend', 'days'])\n",
    "co2"
   ]
  },
  {
   "cell_type": "markdown",
   "id": "de3d7e01-455d-406a-bd77-0e0a034769e0",
   "metadata": {},
   "source": [
    "### 9.1.1. Quality Checks"
   ]
  },
  {
   "cell_type": "markdown",
   "id": "5a224298-a771-449b-8f51-4d552e935e23",
   "metadata": {},
   "source": [
    "Since scientific studies tend to have very clean data, let’s jump right in and make a time series plot of CO2 monthly averages."
   ]
  },
  {
   "cell_type": "code",
   "execution_count": 15,
   "id": "6ddf4c6e-2731-48c2-aa6a-d9055f3d7618",
   "metadata": {},
   "outputs": [
    {
     "data": {
      "image/png": "[encoded data removed]",
      "text/plain": [
       "<Figure size 432x288 with 1 Axes>"
      ]
     },
     "metadata": {
      "needs_background": "light"
     },
     "output_type": "display_data"
    }
   ],
   "source": [
    "sns.lineplot(x='DecDate', y='Avg', data=co2);"
   ]
  },
  {
   "cell_type": "markdown",
   "id": "c3ccf338-6aff-4294-b34b-f05bc5410af7",
   "metadata": {},
   "source": [
    "Yikes! Plotting the data uncovered a problem. What happened here? We can check a few rows of the dataframe to see if we can spot issues in the data.\n",
    "\n"
   ]
  },
  {
   "cell_type": "code",
   "execution_count": 16,
   "id": "71231023-2bcc-4d90-854a-72bc0022ebd4",
   "metadata": {},
   "outputs": [
    {
     "data": {
      "text/html": [
       "<div>\n",
       "<style scoped>\n",
       "    .dataframe tbody tr th:only-of-type {\n",
       "        vertical-align: middle;\n",
       "    }\n",
       "\n",
       "    .dataframe tbody tr th {\n",
       "        vertical-align: top;\n",
       "    }\n",
       "\n",
       "    .dataframe thead th {\n",
       "        text-align: right;\n",
       "    }\n",
       "</style>\n",
       "<table border=\"1\" class=\"dataframe\">\n",
       "  <thead>\n",
       "    <tr style=\"text-align: right;\">\n",
       "      <th></th>\n",
       "      <th>Yr</th>\n",
       "      <th>Mo</th>\n",
       "      <th>DecDate</th>\n",
       "      <th>Avg</th>\n",
       "      <th>Int</th>\n",
       "      <th>Trend</th>\n",
       "      <th>days</th>\n",
       "    </tr>\n",
       "  </thead>\n",
       "  <tbody>\n",
       "    <tr>\n",
       "      <th>0</th>\n",
       "      <td>1958</td>\n",
       "      <td>3</td>\n",
       "      <td>1958.208</td>\n",
       "      <td>315.71</td>\n",
       "      <td>315.71</td>\n",
       "      <td>314.62</td>\n",
       "      <td>-1</td>\n",
       "    </tr>\n",
       "    <tr>\n",
       "      <th>1</th>\n",
       "      <td>1958</td>\n",
       "      <td>4</td>\n",
       "      <td>1958.292</td>\n",
       "      <td>317.45</td>\n",
       "      <td>317.45</td>\n",
       "      <td>315.29</td>\n",
       "      <td>-1</td>\n",
       "    </tr>\n",
       "    <tr>\n",
       "      <th>2</th>\n",
       "      <td>1958</td>\n",
       "      <td>5</td>\n",
       "      <td>1958.375</td>\n",
       "      <td>317.50</td>\n",
       "      <td>317.50</td>\n",
       "      <td>314.71</td>\n",
       "      <td>-1</td>\n",
       "    </tr>\n",
       "    <tr>\n",
       "      <th>3</th>\n",
       "      <td>1958</td>\n",
       "      <td>6</td>\n",
       "      <td>1958.458</td>\n",
       "      <td>-99.99</td>\n",
       "      <td>317.10</td>\n",
       "      <td>314.85</td>\n",
       "      <td>-1</td>\n",
       "    </tr>\n",
       "    <tr>\n",
       "      <th>4</th>\n",
       "      <td>1958</td>\n",
       "      <td>7</td>\n",
       "      <td>1958.542</td>\n",
       "      <td>315.86</td>\n",
       "      <td>315.86</td>\n",
       "      <td>314.98</td>\n",
       "      <td>-1</td>\n",
       "    </tr>\n",
       "  </tbody>\n",
       "</table>\n",
       "</div>"
      ],
      "text/plain": [
       "     Yr  Mo   DecDate     Avg     Int   Trend  days\n",
       "0  1958   3  1958.208  315.71  315.71  314.62    -1\n",
       "1  1958   4  1958.292  317.45  317.45  315.29    -1\n",
       "2  1958   5  1958.375  317.50  317.50  314.71    -1\n",
       "3  1958   6  1958.458  -99.99  317.10  314.85    -1\n",
       "4  1958   7  1958.542  315.86  315.86  314.98    -1"
      ]
     },
     "execution_count": 16,
     "metadata": {},
     "output_type": "execute_result"
    }
   ],
   "source": [
    "co2.head()"
   ]
  },
  {
   "cell_type": "code",
   "execution_count": 17,
   "id": "eb6d65b1-f59e-4887-b619-e70f3c54e4ca",
   "metadata": {},
   "outputs": [
    {
     "data": {
      "text/html": [
       "<div>\n",
       "<style scoped>\n",
       "    .dataframe tbody tr th:only-of-type {\n",
       "        vertical-align: middle;\n",
       "    }\n",
       "\n",
       "    .dataframe tbody tr th {\n",
       "        vertical-align: top;\n",
       "    }\n",
       "\n",
       "    .dataframe thead th {\n",
       "        text-align: right;\n",
       "    }\n",
       "</style>\n",
       "<table border=\"1\" class=\"dataframe\">\n",
       "  <thead>\n",
       "    <tr style=\"text-align: right;\">\n",
       "      <th></th>\n",
       "      <th>Yr</th>\n",
       "      <th>Mo</th>\n",
       "      <th>DecDate</th>\n",
       "      <th>Avg</th>\n",
       "      <th>Int</th>\n",
       "      <th>Trend</th>\n",
       "      <th>days</th>\n",
       "    </tr>\n",
       "  </thead>\n",
       "  <tbody>\n",
       "    <tr>\n",
       "      <th>733</th>\n",
       "      <td>2019</td>\n",
       "      <td>4</td>\n",
       "      <td>2019.292</td>\n",
       "      <td>413.32</td>\n",
       "      <td>413.32</td>\n",
       "      <td>410.49</td>\n",
       "      <td>26</td>\n",
       "    </tr>\n",
       "    <tr>\n",
       "      <th>734</th>\n",
       "      <td>2019</td>\n",
       "      <td>5</td>\n",
       "      <td>2019.375</td>\n",
       "      <td>414.66</td>\n",
       "      <td>414.66</td>\n",
       "      <td>411.20</td>\n",
       "      <td>28</td>\n",
       "    </tr>\n",
       "    <tr>\n",
       "      <th>735</th>\n",
       "      <td>2019</td>\n",
       "      <td>6</td>\n",
       "      <td>2019.458</td>\n",
       "      <td>413.92</td>\n",
       "      <td>413.92</td>\n",
       "      <td>411.58</td>\n",
       "      <td>27</td>\n",
       "    </tr>\n",
       "    <tr>\n",
       "      <th>736</th>\n",
       "      <td>2019</td>\n",
       "      <td>7</td>\n",
       "      <td>2019.542</td>\n",
       "      <td>411.77</td>\n",
       "      <td>411.77</td>\n",
       "      <td>411.43</td>\n",
       "      <td>23</td>\n",
       "    </tr>\n",
       "    <tr>\n",
       "      <th>737</th>\n",
       "      <td>2019</td>\n",
       "      <td>8</td>\n",
       "      <td>2019.625</td>\n",
       "      <td>409.95</td>\n",
       "      <td>409.95</td>\n",
       "      <td>411.84</td>\n",
       "      <td>29</td>\n",
       "    </tr>\n",
       "  </tbody>\n",
       "</table>\n",
       "</div>"
      ],
      "text/plain": [
       "       Yr  Mo   DecDate     Avg     Int   Trend  days\n",
       "733  2019   4  2019.292  413.32  413.32  410.49    26\n",
       "734  2019   5  2019.375  414.66  414.66  411.20    28\n",
       "735  2019   6  2019.458  413.92  413.92  411.58    27\n",
       "736  2019   7  2019.542  411.77  411.77  411.43    23\n",
       "737  2019   8  2019.625  409.95  409.95  411.84    29"
      ]
     },
     "execution_count": 17,
     "metadata": {},
     "output_type": "execute_result"
    }
   ],
   "source": [
    "co2.tail()"
   ]
  },
  {
   "cell_type": "markdown",
   "id": "182b701a-c20b-4f56-9d55-c3d7734fe9ae",
   "metadata": {},
   "source": [
    "Looking a bit more closely this time, we see that some data have unusual values like -1 and -99.99. When we read the information at the top of the file more carefully, we find that -99.99 denotes a missing monthly average and -1 signifies a missing value for the number of days the equipment was in operation that month."
   ]
  },
  {
   "cell_type": "markdown",
   "id": "7867120e-b59a-4968-9e4d-df9dfaff2d86",
   "metadata": {},
   "source": [
    "et’s step back and perform some quality checks. First, we consider the shape of the data. How many rows should we have? From looking at the head and tail of the data frame, the data appear to be in chronological order, beginning with March 1958 and ending with August 2019. This means we should have 12×(2019−1957)−2−4=738 records."
   ]
  },
  {
   "cell_type": "code",
   "execution_count": 18,
   "id": "28a81af3-c5c6-4e56-bd8c-839b232cc8e9",
   "metadata": {},
   "outputs": [
    {
     "data": {
      "text/plain": [
       "(738, 7)"
      ]
     },
     "execution_count": 18,
     "metadata": {},
     "output_type": "execute_result"
    }
   ],
   "source": [
    "co2.shape"
   ]
  },
  {
   "cell_type": "markdown",
   "id": "2955a309-f405-4df9-858d-28c391bb4441",
   "metadata": {},
   "source": [
    "Our calculations match the number of rows. Next, let’s go on to check the quality of the features, starting with Mo. We expect the values to range from 1 to 12, and each month should have 2019-1957 = 62 or 61 instances (since the recordings begin in March of the first year and end in August of the most recent year)."
   ]
  },
  {
   "cell_type": "code",
   "execution_count": 19,
   "id": "ed75ca1c-b96b-4623-816b-a8acab51bcda",
   "metadata": {},
   "outputs": [
    {
     "data": {
      "text/plain": [
       "1     61\n",
       "2     61\n",
       "3     62\n",
       "4     62\n",
       "5     62\n",
       "6     62\n",
       "7     62\n",
       "8     62\n",
       "9     61\n",
       "10    61\n",
       "11    61\n",
       "12    61\n",
       "Name: Mo, dtype: int64"
      ]
     },
     "execution_count": 19,
     "metadata": {},
     "output_type": "execute_result"
    }
   ],
   "source": [
    "co2[\"Mo\"].value_counts().reindex(range(1,13))"
   ]
  },
  {
   "cell_type": "markdown",
   "id": "ecbde538-5bea-4260-a7b2-556c2669185d",
   "metadata": {},
   "source": [
    "As expected Jan, Feb, Sep, Oct, Nov, and Dec have 61 occurrences and the rest 62.\n",
    "\n",
    "Let’s turn to examine ```days```."
   ]
  },
  {
   "cell_type": "code",
   "execution_count": 21,
   "id": "8c721954-f363-473b-bc55-24e4ed542697",
   "metadata": {},
   "outputs": [
    {
     "data": {
      "image/png": "[encoded data removed]",
      "text/plain": [
       "<Figure size 360x360 with 1 Axes>"
      ]
     },
     "metadata": {
      "needs_background": "light"
     },
     "output_type": "display_data"
    }
   ],
   "source": [
    "sns.displot(co2['days']);"
   ]
  },
  {
   "cell_type": "markdown",
   "id": "b1976f67-af39-4945-8f50-53f74cff33d3",
   "metadata": {},
   "source": [
    "In terms of data quality, a handful of months have averages based on measurements taken on fewer than half the days. In addition, there are nearly 200 missing values. Let’s check to see if there is any connection between missingness and the year of the recording.\n",
    "\n"
   ]
  },
  {
   "cell_type": "code",
   "execution_count": 22,
   "id": "0a268617-f68e-435c-acf0-63b66d215f4d",
   "metadata": {},
   "outputs": [
    {
     "data": {
      "image/png": "[encoded data removed]",
      "text/plain": [
       "<Figure size 432x288 with 1 Axes>"
      ]
     },
     "metadata": {
      "needs_background": "light"
     },
     "output_type": "display_data"
    }
   ],
   "source": [
    "sns.scatterplot(x=\"Yr\", y=\"days\", data=co2);"
   ]
  },
  {
   "cell_type": "markdown",
   "id": "4e951c3e-22ec-449a-b443-97cd6a2eb089",
   "metadata": {},
   "source": [
    "All of the missing data are in the early years of operation. The number of days of operation of the equipment may no longer be available for the early days of operation. It also appears that there might have been problems with the equipment in the mid to late 80s. What do we do with these conjectures? We would want to confirm them by looking through documentation about the historical readings. If we are concerned about the impact on the CO2 averages of the missing values for days, then a simple solution would be to drop the earliest recordings. However, we would want to delay such action until after we have examined the time trends and assess whether there are any potential problems.\n",
    "\n",
    "Next, let’s return to the -99.99 values in Avg and the overall quality of the CO2 measurements."
   ]
  },
  {
   "cell_type": "code",
   "execution_count": 23,
   "id": "8a3534d6-8b9b-4ef4-ac43-b418646e50e9",
   "metadata": {},
   "outputs": [
    {
     "data": {
      "image/png": "[encoded data removed]",
      "text/plain": [
       "<Figure size 360x360 with 1 Axes>"
      ]
     },
     "metadata": {
      "needs_background": "light"
     },
     "output_type": "display_data"
    }
   ],
   "source": [
    "sns.displot(co2['Avg']);"
   ]
  },
  {
   "cell_type": "markdown",
   "id": "96899bd4-d877-481d-84da-0d6e8a5b55ad",
   "metadata": {},
   "source": [
    "The non-missing values are in the 300-400 range, which is as expected based on our external research on CO2 levels. We also see that there are only a few missing values. Since there aren’t many missing values, we can examine all of them:"
   ]
  },
  {
   "cell_type": "code",
   "execution_count": 24,
   "id": "4a3666d2-26f2-4629-ad84-6ab580292279",
   "metadata": {},
   "outputs": [
    {
     "data": {
      "text/html": [
       "<div>\n",
       "<style scoped>\n",
       "    .dataframe tbody tr th:only-of-type {\n",
       "        vertical-align: middle;\n",
       "    }\n",
       "\n",
       "    .dataframe tbody tr th {\n",
       "        vertical-align: top;\n",
       "    }\n",
       "\n",
       "    .dataframe thead th {\n",
       "        text-align: right;\n",
       "    }\n",
       "</style>\n",
       "<table border=\"1\" class=\"dataframe\">\n",
       "  <thead>\n",
       "    <tr style=\"text-align: right;\">\n",
       "      <th></th>\n",
       "      <th>Yr</th>\n",
       "      <th>Mo</th>\n",
       "      <th>DecDate</th>\n",
       "      <th>Avg</th>\n",
       "      <th>Int</th>\n",
       "      <th>Trend</th>\n",
       "      <th>days</th>\n",
       "    </tr>\n",
       "  </thead>\n",
       "  <tbody>\n",
       "    <tr>\n",
       "      <th>3</th>\n",
       "      <td>1958</td>\n",
       "      <td>6</td>\n",
       "      <td>1958.458</td>\n",
       "      <td>-99.99</td>\n",
       "      <td>317.10</td>\n",
       "      <td>314.85</td>\n",
       "      <td>-1</td>\n",
       "    </tr>\n",
       "    <tr>\n",
       "      <th>7</th>\n",
       "      <td>1958</td>\n",
       "      <td>10</td>\n",
       "      <td>1958.792</td>\n",
       "      <td>-99.99</td>\n",
       "      <td>312.66</td>\n",
       "      <td>315.61</td>\n",
       "      <td>-1</td>\n",
       "    </tr>\n",
       "    <tr>\n",
       "      <th>71</th>\n",
       "      <td>1964</td>\n",
       "      <td>2</td>\n",
       "      <td>1964.125</td>\n",
       "      <td>-99.99</td>\n",
       "      <td>320.07</td>\n",
       "      <td>319.61</td>\n",
       "      <td>-1</td>\n",
       "    </tr>\n",
       "    <tr>\n",
       "      <th>72</th>\n",
       "      <td>1964</td>\n",
       "      <td>3</td>\n",
       "      <td>1964.208</td>\n",
       "      <td>-99.99</td>\n",
       "      <td>320.73</td>\n",
       "      <td>319.55</td>\n",
       "      <td>-1</td>\n",
       "    </tr>\n",
       "    <tr>\n",
       "      <th>73</th>\n",
       "      <td>1964</td>\n",
       "      <td>4</td>\n",
       "      <td>1964.292</td>\n",
       "      <td>-99.99</td>\n",
       "      <td>321.77</td>\n",
       "      <td>319.48</td>\n",
       "      <td>-1</td>\n",
       "    </tr>\n",
       "    <tr>\n",
       "      <th>213</th>\n",
       "      <td>1975</td>\n",
       "      <td>12</td>\n",
       "      <td>1975.958</td>\n",
       "      <td>-99.99</td>\n",
       "      <td>330.59</td>\n",
       "      <td>331.60</td>\n",
       "      <td>0</td>\n",
       "    </tr>\n",
       "    <tr>\n",
       "      <th>313</th>\n",
       "      <td>1984</td>\n",
       "      <td>4</td>\n",
       "      <td>1984.292</td>\n",
       "      <td>-99.99</td>\n",
       "      <td>346.84</td>\n",
       "      <td>344.27</td>\n",
       "      <td>2</td>\n",
       "    </tr>\n",
       "  </tbody>\n",
       "</table>\n",
       "</div>"
      ],
      "text/plain": [
       "       Yr  Mo   DecDate    Avg     Int   Trend  days\n",
       "3    1958   6  1958.458 -99.99  317.10  314.85    -1\n",
       "7    1958  10  1958.792 -99.99  312.66  315.61    -1\n",
       "71   1964   2  1964.125 -99.99  320.07  319.61    -1\n",
       "72   1964   3  1964.208 -99.99  320.73  319.55    -1\n",
       "73   1964   4  1964.292 -99.99  321.77  319.48    -1\n",
       "213  1975  12  1975.958 -99.99  330.59  331.60     0\n",
       "313  1984   4  1984.292 -99.99  346.84  344.27     2"
      ]
     },
     "execution_count": 24,
     "metadata": {},
     "output_type": "execute_result"
    }
   ],
   "source": [
    "co2[co2[\"Avg\"] < 0]"
   ]
  },
  {
   "cell_type": "markdown",
   "id": "12eeb2da-82e3-4bca-98c5-bd9b156a4f17",
   "metadata": {},
   "source": [
    "### 9.1.2. Addressing Missing Data\n"
   ]
  },
  {
   "cell_type": "markdown",
   "id": "97f0bc80-6675-4e88-b75c-19669010e810",
   "metadata": {},
   "source": [
    "What do we do with the -99.99s that we have discovered? Do we drop those records? Do we replace -99.99 with NaN? Or substitute it with a likely value for the average CO2? What do you think are the pros and cons of each possible action? Let’s examine each of these three options. We make two versions of the data, one that drops records and the other that replaces -99.99 with NaN."
   ]
  },
  {
   "cell_type": "code",
   "execution_count": 26,
   "id": "b175119e-bfb1-4872-80c5-bd881451d895",
   "metadata": {},
   "outputs": [],
   "source": [
    "# Dropped missing values\n",
    "co2_drop = co2[co2['Avg'] > 0]\n",
    "\n",
    "# Replaced with NaN\n",
    "co2_NA = co2.replace(-99.99, np.NaN)"
   ]
  },
  {
   "cell_type": "markdown",
   "id": "cf623270-3eff-4c4e-8842-943907f0ba2b",
   "metadata": {},
   "source": [
    "We’ll also use a third version of the data. First, we note that the dataset already comes with a substitute value for the -99.99. The Int feature has values that exactly match those in ```Avg```, except when ```Avg``` is -99.99, and then a “reasonable” estimate is used instead. So, the third version of our data will use the ```Int``` feature instead of ```Avg```.\n",
    "\n",
    "We’ll discuss what we mean by reasonable in a moment. For now, let’s zoom in on a short time period, say the measurements in 1958, where we know we have two missing values. Next, we’ll create a time series plot for the three cases: drop the records with -99.99s (left plot); use NaN for missing value (middle plot); substitute an estimate for -99.99 (right plot)."
   ]
  },
  {
   "cell_type": "code",
   "execution_count": 29,
   "id": "12baecaa-258b-4908-b9fd-432100c59a16",
   "metadata": {},
   "outputs": [
    {
     "data": {
      "image/png": "[encoded data removed]",
      "text/plain": [
       "<Figure size 864x288 with 3 Axes>"
      ]
     },
     "metadata": {
      "needs_background": "light"
     },
     "output_type": "display_data"
    }
   ],
   "source": [
    "def line_and_points(data, ax, y='Avg', title=\"Missing Dropped\"):\n",
    "    ax.plot('Mo', y, data=data)\n",
    "    ax.scatter('Mo', y, data=data)\n",
    "    ax.set_xlim(2, 13)\n",
    "    ax.set_title(title)\n",
    "    ax.set_xticks(np.arange(3, 13))\n",
    "\n",
    "fig, axes = plt.subplots(ncols = 3, figsize=(12, 4), sharey=True)\n",
    "\n",
    "line_and_points(co2_drop[:8], axes[0])\n",
    "line_and_points(co2_NA[:10], axes[1], title=\"Missing Set to NaN\")\n",
    "line_and_points(co2_NA[:10], axes[2], y='Int', title=\"Missing Interpolated\")\n",
    "\n",
    "plt.tight_layout()"
   ]
  },
  {
   "cell_type": "markdown",
   "id": "9cb9c847-aca0-443f-a99f-1499d21b018e",
   "metadata": {},
   "source": [
    "Can you see what’s happening in each of these plots? The leftmost plot connects dots over a two month time period, rather than one month. In the middle, the line breaks where the data are missing, and on the right, we can see two monthly averages have been added. In the big picture since there are only seven values missing from the 738 months, any of these options works. However, there is some appeal to the right plot since the seasonal trends are more cleanly discernible.\n",
    "\n",
    "The method used to interpolate the CO2 measurements for the missing values uses an averaging process that takes into consideration the month and year. The idea is to reflect both seasonal changes and the long term trend. This technique is described in greater detail in the documentation at the top of the data file. We will opt for the third option and use the average values provided by NOAA."
   ]
  },
  {
   "cell_type": "markdown",
   "id": "f8fa8b6c-1158-4287-bbaa-1dcd6113abd2",
   "metadata": {},
   "source": [
    "### 9.1.3. Reshaping the Data Table"
   ]
  },
  {
   "cell_type": "markdown",
   "id": "88fa2dd6-068b-4a64-9264-6ca290c2f849",
   "metadata": {},
   "source": [
    "We determined earlier that each row of the data table represents a month. But the actual measurements from the research station happen more frequently. In fact, the GML website has datasets for daily and hourly measurements too. You might see some asymmetry in the granularity. We can go from hourly recordings to daily averages but not the other way around. The hourly data has a finer granularity than the daily data; reciprocally, the daily data has a coarser granularity than the hourly data. We use aggregation to go to a coarser granularity — in pandas, we would use .groupby() and .agg().\n",
    "\n",
    "Why not always just use the data with the finest granularity available? On a computational level, very fine-grained data can become very large. The Mauna Loa Observatory started recording CO2 levels in 1958. Imagine how many rows the data table would contain if they took measurements every single second! But more importantly, you want the granularity of the data to match your research question. Suppose you want to see whether CO2 levels have risen over the past 50+ years, consistent with global warming predictions. You don’t need a CO2 measurement every second. In fact, you might well be content with yearly data where the seasonal patterns are smoothed away. We can aggregate the data, changing its granularity to annual average measurements, and make a plot to display the trend."
   ]
  },
  {
   "cell_type": "code",
   "execution_count": 30,
   "id": "4833559b-cba1-48fb-87fd-92ab5f01a6f2",
   "metadata": {},
   "outputs": [
    {
     "data": {
      "image/png": "[encoded data removed]",
      "text/plain": [
       "<Figure size 432x288 with 1 Axes>"
      ]
     },
     "metadata": {
      "needs_background": "light"
     },
     "output_type": "display_data"
    }
   ],
   "source": [
    "co2_NA.groupby('Yr')['Int'].mean().plot();"
   ]
  },
  {
   "cell_type": "markdown",
   "id": "c8dd2b3c-8f5b-4a16-ac05-4a31e1996355",
   "metadata": {},
   "source": [
    "Indeed, we see a rise by nearly 100 ppm of CO2 since Mauna Loa began recording in 1958.\n",
    "\n"
   ]
  },
  {
   "cell_type": "markdown",
   "id": "18c01fd0-6a75-40da-8265-4718c9cd08f0",
   "metadata": {},
   "source": [
    "### 9.1.4. Takeaways"
   ]
  },
  {
   "cell_type": "markdown",
   "id": "19d72a83-cd8e-48b6-af5e-086a540560f9",
   "metadata": {},
   "source": [
    "After reading the whitespace-separated, plain-text file into a data frame, we began to check its quality. We used the scope and context of the data to affirm that its shape matched the range of dates of collection. We confirmed the values and counts for the month were as expected. We ascertained the extent of missing values in the features, and looked for connections between missing values and other features. We considered three approaches to handling the missing data: drop records, work with NaN values, and impute values to have a full table. And, finally, we changed the granularity of the data frame (Section 8.5) by rolling it up from a monthly to an annual average. This change in granularity removed seasonal fluctuations, which focussed on the long term trend in the level of CO2 in the atmosphere. The next four sections expand on these actions to wrangle the data into a form suitable for analysis: quality checks, missing value treatments, transformations, and shape adjustments. We begin with quality checks."
   ]
  }
 ],
 "metadata": {
  "kernelspec": {
   "display_name": "Python 3 (ipykernel)",
   "language": "python",
   "name": "python3"
  },
  "language_info": {
   "codemirror_mode": {
    "name": "ipython",
    "version": 3
   },
   "file_extension": ".py",
   "mimetype": "text/x-python",
   "name": "python",
   "nbconvert_exporter": "python",
   "pygments_lexer": "ipython3",
   "version": "3.9.12"
  }
 },
 "nbformat": 4,
 "nbformat_minor": 5
}
