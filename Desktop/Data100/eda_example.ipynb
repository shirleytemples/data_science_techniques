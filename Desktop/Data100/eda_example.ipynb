{
 "cells": [
  {
   "cell_type": "code",
   "execution_count": 1,
   "id": "52dd6e81-8246-4d4d-86c6-6068c3528eff",
   "metadata": {},
   "outputs": [],
   "source": [
    "# Reference: https://jupyterbook.org/interactive/hiding.html\n",
    "# Use {hide, remove}-{input, output, cell} tags to hiding content\n",
    "\n",
    "import numpy as np\n",
    "import matplotlib.pyplot as plt\n",
    "import pandas as pd\n",
    "import seaborn as sns\n",
    "%matplotlib inline\n",
    "import ipywidgets as widgets\n",
    "from ipywidgets import interact, interactive, fixed, interact_manual\n",
    "from IPython.display import display\n",
    "import myst_nb\n",
    "\n",
    "sns.set()\n",
    "sns.set_context('talk')\n",
    "np.set_printoptions(threshold=20, precision=2, suppress=True)\n",
    "pd.set_option('display.max_rows', 7)\n",
    "pd.set_option('display.max_columns', 8)\n",
    "#pd.set_option('precision', 2)\n",
    "# This option stops scientific notation for pandas\n",
    "# pd.set_option('display.float_format', '{:.2f}'.format)\n",
    "\n",
    "def display_df(df, rows=pd.options.display.max_rows,\n",
    "               cols=pd.options.display.max_columns):\n",
    "    with pd.option_context('display.max_rows', rows,\n",
    "                           'display.max_columns', cols):\n",
    "        display(df)"
   ]
  },
  {
   "cell_type": "markdown",
   "id": "9fce0cf4-d7e6-489e-9a85-8cd3fc771c14",
   "metadata": {},
   "source": [
    "## Example: Sale Prices for Houses"
   ]
  },
  {
   "cell_type": "markdown",
   "id": "1de90777-9d41-423d-8139-2fe3eff07a79",
   "metadata": {},
   "source": [
    "In this final section, we carry out an exploratory analysis using the ideas from this chapter to guide our investigations help us understand the visualizations that we make. Although EDA typically begins in the data wrangling stage, for demonstration purposes the data we work with in this section have already been partially cleaned so that we can focus on exploring the features of interest. "
   ]
  },
  {
   "cell_type": "markdown",
   "id": "c9965e43-24e1-4ed2-9abc-53413714f230",
   "metadata": {},
   "source": [
    "**Scope.** These data were scraped from the San Francisco Chronicle (SFChron) Website. The SFChron published weekly data on the sale of houses in the San Francisco Bay Area. The data are a census of homes sold during this time. That is, the population consists of all sales of houses from Apr 2003 to December 2008. Since we are working with a census, the population matches the access frame and the sample consists of the entire population.\n",
    "\n",
    "**Granularity.** Each record represents a sale of a home in the SF Bay Area during the above specified time period. This means that if a home was sold twice during this time, then it will have two records in the dataset. And, if a home in the Bay Area was not sold during this time, then it will not appear in the dataset.\n",
    "\n",
    "**File Type.** When we inspect the data file sfhousing.csv with CLI tools (see Section X), we find that there are over 500,000 rows in the dataset and that the file indeed consists of comma-separated-values.\n",
    "\n"
   ]
  },
  {
   "cell_type": "code",
   "execution_count": 3,
   "id": "1d796dfa-76ec-4a9d-be8f-80c247c417d0",
   "metadata": {},
   "outputs": [
    {
     "name": "stdout",
     "output_type": "stream",
     "text": [
      "  521494 2801383 47630469 data/sfhousing.csv\n"
     ]
    }
   ],
   "source": [
    "#The file has 521494 lines\n",
    "!wc data/sfhousing.csv"
   ]
  },
  {
   "cell_type": "code",
   "execution_count": 4,
   "id": "bce5724e-3375-49d1-945b-b019fd694e63",
   "metadata": {},
   "outputs": [
    {
     "name": "stdout",
     "output_type": "stream",
     "text": [
      " 45M\tdata/sfhousing.csv\n"
     ]
    }
   ],
   "source": [
    "# The file is 45M large, which is reasonable to read into pandas\n",
    "!du -shH data/sfhousing.csv"
   ]
  },
  {
   "cell_type": "code",
   "execution_count": 5,
   "id": "34cb315a-bdbc-40f4-ae0c-e21120332e7d",
   "metadata": {},
   "outputs": [
    {
     "name": "stdout",
     "output_type": "stream",
     "text": [
      "county,city,zip,street,price,br,lsqft,bsqft,year,date,datesold\n",
      "Alameda County,Alameda,94501,1001 Post Street,689000,4,4484,1982,1950,2004-08-29,NA\n",
      "Alameda County,Alameda,94501,1001 Santa Clara Avenue,880000,7,5914,3866,1995,2005-11-06,NA\n",
      "Alameda County,Alameda,94501,1001 Shoreline Drive \\#102,393000,2,39353,1360,1970,2003-09-21,NA\n"
     ]
    }
   ],
   "source": [
    "!head -n 4 data/sfhousing.csv"
   ]
  },
  {
   "cell_type": "markdown",
   "id": "21a39a99-ba8f-4ea0-bd45-df3f5333b3c2",
   "metadata": {},
   "source": [
    "With this, we expect that we can read the file into a DataFrame:"
   ]
  },
  {
   "cell_type": "code",
   "execution_count": 6,
   "id": "add752eb-4b24-4a4f-b85d-4e2681fbf599",
   "metadata": {},
   "outputs": [
    {
     "name": "stderr",
     "output_type": "stream",
     "text": [
      "/var/folders/s2/cw87rxkn0bx03lwlr3n06skh0001l0/T/ipykernel_42949/3770638222.py:3: FutureWarning: The error_bad_lines argument has been deprecated and will be removed in a future version. Use on_bad_lines in the future.\n",
      "\n",
      "\n",
      "  sfh_all=pd.read_csv('data/sfhousing.csv', error_bad_lines=False)\n",
      "b'Skipping line 30550: expected 11 fields, saw 12\\n'\n",
      "b'Skipping line 343819: expected 11 fields, saw 12\\n'\n"
     ]
    },
    {
     "data": {
      "text/html": [
       "<div>\n",
       "<style scoped>\n",
       "    .dataframe tbody tr th:only-of-type {\n",
       "        vertical-align: middle;\n",
       "    }\n",
       "\n",
       "    .dataframe tbody tr th {\n",
       "        vertical-align: top;\n",
       "    }\n",
       "\n",
       "    .dataframe thead th {\n",
       "        text-align: right;\n",
       "    }\n",
       "</style>\n",
       "<table border=\"1\" class=\"dataframe\">\n",
       "  <thead>\n",
       "    <tr style=\"text-align: right;\">\n",
       "      <th></th>\n",
       "      <th>county</th>\n",
       "      <th>city</th>\n",
       "      <th>zip</th>\n",
       "      <th>street</th>\n",
       "      <th>...</th>\n",
       "      <th>bsqft</th>\n",
       "      <th>year</th>\n",
       "      <th>date</th>\n",
       "      <th>datesold</th>\n",
       "    </tr>\n",
       "  </thead>\n",
       "  <tbody>\n",
       "    <tr>\n",
       "      <th>0</th>\n",
       "      <td>Alameda County</td>\n",
       "      <td>Alameda</td>\n",
       "      <td>94501.0</td>\n",
       "      <td>1001 Post Street</td>\n",
       "      <td>...</td>\n",
       "      <td>1982.0</td>\n",
       "      <td>1950.0</td>\n",
       "      <td>2004-08-29</td>\n",
       "      <td>NaN</td>\n",
       "    </tr>\n",
       "    <tr>\n",
       "      <th>1</th>\n",
       "      <td>Alameda County</td>\n",
       "      <td>Alameda</td>\n",
       "      <td>94501.0</td>\n",
       "      <td>1001 Santa Clara Avenue</td>\n",
       "      <td>...</td>\n",
       "      <td>3866.0</td>\n",
       "      <td>1995.0</td>\n",
       "      <td>2005-11-06</td>\n",
       "      <td>NaN</td>\n",
       "    </tr>\n",
       "    <tr>\n",
       "      <th>2</th>\n",
       "      <td>Alameda County</td>\n",
       "      <td>Alameda</td>\n",
       "      <td>94501.0</td>\n",
       "      <td>1001 Shoreline Drive \\#102</td>\n",
       "      <td>...</td>\n",
       "      <td>1360.0</td>\n",
       "      <td>1970.0</td>\n",
       "      <td>2003-09-21</td>\n",
       "      <td>NaN</td>\n",
       "    </tr>\n",
       "    <tr>\n",
       "      <th>...</th>\n",
       "      <td>...</td>\n",
       "      <td>...</td>\n",
       "      <td>...</td>\n",
       "      <td>...</td>\n",
       "      <td>...</td>\n",
       "      <td>...</td>\n",
       "      <td>...</td>\n",
       "      <td>...</td>\n",
       "      <td>...</td>\n",
       "    </tr>\n",
       "    <tr>\n",
       "      <th>521488</th>\n",
       "      <td>Sonoma County</td>\n",
       "      <td>Windsor</td>\n",
       "      <td>95492.0</td>\n",
       "      <td>9998 Blasi Drive</td>\n",
       "      <td>...</td>\n",
       "      <td>NaN</td>\n",
       "      <td>NaN</td>\n",
       "      <td>2008-02-17</td>\n",
       "      <td>NaN</td>\n",
       "    </tr>\n",
       "    <tr>\n",
       "      <th>521489</th>\n",
       "      <td>Sonoma County</td>\n",
       "      <td>Windsor</td>\n",
       "      <td>95492.0</td>\n",
       "      <td>9999 Blasi Drive</td>\n",
       "      <td>...</td>\n",
       "      <td>NaN</td>\n",
       "      <td>NaN</td>\n",
       "      <td>2008-02-17</td>\n",
       "      <td>NaN</td>\n",
       "    </tr>\n",
       "    <tr>\n",
       "      <th>521490</th>\n",
       "      <td>Sonoma County</td>\n",
       "      <td>Windsor</td>\n",
       "      <td>95492.0</td>\n",
       "      <td>999 Gemini Drive</td>\n",
       "      <td>...</td>\n",
       "      <td>1092.0</td>\n",
       "      <td>1973.0</td>\n",
       "      <td>2003-09-21</td>\n",
       "      <td>NaN</td>\n",
       "    </tr>\n",
       "  </tbody>\n",
       "</table>\n",
       "<p>521491 rows × 11 columns</p>\n",
       "</div>"
      ],
      "text/plain": [
       "                county     city      zip                      street  ...  \\\n",
       "0       Alameda County  Alameda  94501.0            1001 Post Street  ...   \n",
       "1       Alameda County  Alameda  94501.0     1001 Santa Clara Avenue  ...   \n",
       "2       Alameda County  Alameda  94501.0  1001 Shoreline Drive \\#102  ...   \n",
       "...                ...      ...      ...                         ...  ...   \n",
       "521488   Sonoma County  Windsor  95492.0            9998 Blasi Drive  ...   \n",
       "521489   Sonoma County  Windsor  95492.0            9999 Blasi Drive  ...   \n",
       "521490   Sonoma County  Windsor  95492.0            999 Gemini Drive  ...   \n",
       "\n",
       "         bsqft    year        date  datesold  \n",
       "0       1982.0  1950.0  2004-08-29       NaN  \n",
       "1       3866.0  1995.0  2005-11-06       NaN  \n",
       "2       1360.0  1970.0  2003-09-21       NaN  \n",
       "...        ...     ...         ...       ...  \n",
       "521488     NaN     NaN  2008-02-17       NaN  \n",
       "521489     NaN     NaN  2008-02-17       NaN  \n",
       "521490  1092.0  1973.0  2003-09-21       NaN  \n",
       "\n",
       "[521491 rows x 11 columns]"
      ]
     },
     "execution_count": 6,
     "metadata": {},
     "output_type": "execute_result"
    }
   ],
   "source": [
    "# Some rows in the csv have extra commas, but since there are only a few, we\n",
    "# drop them when reading in the data.\n",
    "sfh_all=pd.read_csv('data/sfhousing.csv', error_bad_lines=False)\n",
    "sfh_all"
   ]
  },
  {
   "cell_type": "markdown",
   "id": "9088d896-fee8-476a-bdcd-2a54923c57cc",
   "metadata": {},
   "source": [
    "**Feature Types.** This dataset does not have an accompanying codebook, but we can determine the features and their types by inspection."
   ]
  },
  {
   "cell_type": "code",
   "execution_count": 7,
   "id": "b7c88ecc-af2c-4431-bed3-8b744a3f112f",
   "metadata": {},
   "outputs": [
    {
     "name": "stdout",
     "output_type": "stream",
     "text": [
      "<class 'pandas.core.frame.DataFrame'>\n",
      "RangeIndex: 521491 entries, 0 to 521490\n",
      "Data columns (total 11 columns):\n",
      " #   Column    Non-Null Count   Dtype  \n",
      "---  ------    --------------   -----  \n",
      " 0   county    521491 non-null  object \n",
      " 1   city      521491 non-null  object \n",
      " 2   zip       521462 non-null  float64\n",
      " 3   street    521479 non-null  object \n",
      " 4   price     521491 non-null  float64\n",
      " 5   br        421343 non-null  float64\n",
      " 6   lsqft     435207 non-null  float64\n",
      " 7   bsqft     444465 non-null  float64\n",
      " 8   year      433840 non-null  float64\n",
      " 9   date      521491 non-null  object \n",
      " 10  datesold  52102 non-null   object \n",
      "dtypes: float64(6), object(5)\n",
      "memory usage: 43.8+ MB\n"
     ]
    }
   ],
   "source": [
    "sfh_all.info()"
   ]
  },
  {
   "cell_type": "markdown",
   "id": "d5f0e8b0-2d6d-4cd1-8b92-2601ae7c6b33",
   "metadata": {},
   "source": [
    "Based on the names of the fields, we expect the primary key to consist of the combination of county, city, zip, street address, and date (if the house was sold more than once in the time period).\n",
    "\n",
    "Sale price is our focus in this investigation so we begin by examining it. To develop your intuition about distributions, make a guess about the shape of the sale price distribution."
   ]
  },
  {
   "cell_type": "markdown",
   "id": "b9ca093b-330f-4119-bc93-356dd448bed8",
   "metadata": {},
   "source": [
    "## Understanding Price"
   ]
  },
  {
   "cell_type": "markdown",
   "id": "9977327f-fa98-4f57-9d7a-88ef0ebcccfa",
   "metadata": {},
   "source": [
    "A starting guess is that the distribution is highly skewed to the right with a few expensive houses sold. The summary statistics shown below confirm this skewness. The median is closer to the lower quartile than to the upper quartile. Also the maximum is more than 40 times as large as the median."
   ]
  },
  {
   "cell_type": "code",
   "execution_count": 8,
   "id": "6bed378a-772d-46d4-988c-e7e6edc7a9d0",
   "metadata": {},
   "outputs": [
    {
     "data": {
      "text/html": [
       "<div>\n",
       "<style scoped>\n",
       "    .dataframe tbody tr th:only-of-type {\n",
       "        vertical-align: middle;\n",
       "    }\n",
       "\n",
       "    .dataframe tbody tr th {\n",
       "        vertical-align: top;\n",
       "    }\n",
       "\n",
       "    .dataframe thead th {\n",
       "        text-align: right;\n",
       "    }\n",
       "</style>\n",
       "<table border=\"1\" class=\"dataframe\">\n",
       "  <thead>\n",
       "    <tr style=\"text-align: right;\">\n",
       "      <th></th>\n",
       "      <th>price</th>\n",
       "    </tr>\n",
       "  </thead>\n",
       "  <tbody>\n",
       "    <tr>\n",
       "      <th>count</th>\n",
       "      <td>521491.00</td>\n",
       "    </tr>\n",
       "    <tr>\n",
       "      <th>mean</th>\n",
       "      <td>635443.11</td>\n",
       "    </tr>\n",
       "    <tr>\n",
       "      <th>std</th>\n",
       "      <td>393968.53</td>\n",
       "    </tr>\n",
       "    <tr>\n",
       "      <th>min</th>\n",
       "      <td>22000.00</td>\n",
       "    </tr>\n",
       "    <tr>\n",
       "      <th>25%</th>\n",
       "      <td>410000.00</td>\n",
       "    </tr>\n",
       "    <tr>\n",
       "      <th>50%</th>\n",
       "      <td>555000.00</td>\n",
       "    </tr>\n",
       "    <tr>\n",
       "      <th>75%</th>\n",
       "      <td>744000.00</td>\n",
       "    </tr>\n",
       "    <tr>\n",
       "      <th>max</th>\n",
       "      <td>20000000.00</td>\n",
       "    </tr>\n",
       "  </tbody>\n",
       "</table>\n",
       "</div>"
      ],
      "text/plain": [
       "            price\n",
       "count   521491.00\n",
       "mean    635443.11\n",
       "std     393968.53\n",
       "min      22000.00\n",
       "25%     410000.00\n",
       "50%     555000.00\n",
       "75%     744000.00\n",
       "max   20000000.00"
      ]
     },
     "metadata": {},
     "output_type": "display_data"
    }
   ],
   "source": [
    "# This option stops scientific notation for pandas\n",
    "pd.set_option('display.float_format', '{:.2f}'.format)\n",
    "\n",
    "display_df(sfh_all[['price']].describe(), rows=8)"
   ]
  },
  {
   "cell_type": "markdown",
   "id": "4f605043-763c-43b9-a804-270a4b262dc8",
   "metadata": {},
   "source": [
    "We might ask whether that $20m sale price is simply an anomalous value or whether there are many houses that sold at such a high price. We can zoom in on the right tail of the distribution and compute a few high percentiles."
   ]
  },
  {
   "cell_type": "code",
   "execution_count": 9,
   "id": "1d510022-4de1-4091-80ee-28112a714f29",
   "metadata": {},
   "outputs": [
    {
     "data": {
      "text/html": [
       "<div>\n",
       "<style scoped>\n",
       "    .dataframe tbody tr th:only-of-type {\n",
       "        vertical-align: middle;\n",
       "    }\n",
       "\n",
       "    .dataframe tbody tr th {\n",
       "        vertical-align: top;\n",
       "    }\n",
       "\n",
       "    .dataframe thead th {\n",
       "        text-align: right;\n",
       "    }\n",
       "</style>\n",
       "<table border=\"1\" class=\"dataframe\">\n",
       "  <thead>\n",
       "    <tr style=\"text-align: right;\">\n",
       "      <th></th>\n",
       "      <th>price</th>\n",
       "    </tr>\n",
       "  </thead>\n",
       "  <tbody>\n",
       "    <tr>\n",
       "      <th>95.00</th>\n",
       "      <td>1295000.00</td>\n",
       "    </tr>\n",
       "    <tr>\n",
       "      <th>97.00</th>\n",
       "      <td>1508000.00</td>\n",
       "    </tr>\n",
       "    <tr>\n",
       "      <th>98.00</th>\n",
       "      <td>1707000.00</td>\n",
       "    </tr>\n",
       "    <tr>\n",
       "      <th>99.00</th>\n",
       "      <td>2110000.00</td>\n",
       "    </tr>\n",
       "    <tr>\n",
       "      <th>99.50</th>\n",
       "      <td>2600000.00</td>\n",
       "    </tr>\n",
       "    <tr>\n",
       "      <th>99.90</th>\n",
       "      <td>3950000.00</td>\n",
       "    </tr>\n",
       "  </tbody>\n",
       "</table>\n",
       "</div>"
      ],
      "text/plain": [
       "           price\n",
       "95.00 1295000.00\n",
       "97.00 1508000.00\n",
       "98.00 1707000.00\n",
       "99.00 2110000.00\n",
       "99.50 2600000.00\n",
       "99.90 3950000.00"
      ]
     },
     "execution_count": 9,
     "metadata": {},
     "output_type": "execute_result"
    }
   ],
   "source": [
    "percs = [95, 97, 98, 99, 99.5, 99.9]\n",
    "prices = np.percentile(sfh_all['price'], percs, interpolation='lower')\n",
    "pd.DataFrame({'price': prices}, index=percs)"
   ]
  },
  {
   "cell_type": "markdown",
   "id": "85c23d53-8119-4266-b837-5eaccb30aff6",
   "metadata": {},
   "source": [
    "We see that 99.9% of the houses sold for under $4M so the $20M sale is indeed a rarity. Let’s examine the histogram of sale prices below $4𝑀. Fewer than 1 in 1,000 sales exceeded $4𝑀. Is the distribution skewed?"
   ]
  },
  {
   "cell_type": "code",
   "execution_count": 10,
   "id": "3b603e22-3a60-4679-9573-984b08012f7b",
   "metadata": {},
   "outputs": [
    {
     "data": {
      "text/plain": [
       "<AxesSubplot:xlabel='price', ylabel='Count'>"
      ]
     },
     "execution_count": 10,
     "metadata": {},
     "output_type": "execute_result"
    },
    {
     "data": {
      "image/png": "[encoded data removed]",
      "text/plain": [
       "<Figure size 432x288 with 1 Axes>"
      ]
     },
     "metadata": {},
     "output_type": "display_data"
    }
   ],
   "source": [
    "under_4m = sfh_all[sfh_all['price'] < 4_000_000]\n",
    "sns.histplot(data=under_4m, x='price', binwidth=100000)"
   ]
  },
  {
   "cell_type": "markdown",
   "id": "d856ccb0-b65c-4cd9-9884-c1463e486a15",
   "metadata": {},
   "source": [
    "We can confirm that the sale price, even without the top 0.1%, remains highly skewed to the right, with a single mode around $1m. Next, we plot the histogram of the logarithm transformed sale price, which is roughly symmetric:"
   ]
  },
  {
   "cell_type": "code",
   "execution_count": 11,
   "id": "c5b7fffe-bb09-4038-ac21-d003f6d19946",
   "metadata": {},
   "outputs": [
    {
     "data": {
      "text/plain": [
       "<AxesSubplot:xlabel='log_price', ylabel='Count'>"
      ]
     },
     "execution_count": 11,
     "metadata": {},
     "output_type": "execute_result"
    },
    {
     "data": {
      "image/png": "[encoded data removed]",
      "text/plain": [
       "<Figure size 432x288 with 1 Axes>"
      ]
     },
     "metadata": {},
     "output_type": "display_data"
    }
   ],
   "source": [
    "log_prices = under_4m.assign(log_price=np.log10(under_4m['price']))\n",
    "sns.histplot(data=log_prices, x='log_price', binwidth=0.1)"
   ]
  },
  {
   "cell_type": "markdown",
   "id": "95d6b715-9b53-4427-afcd-776cca84e43f",
   "metadata": {},
   "source": [
    "## 10.5.2. What Next?"
   ]
  },
  {
   "cell_type": "markdown",
   "id": "2aed5233-7181-4b8d-a44e-7ef5cfeb0f6a",
   "metadata": {},
   "source": [
    "Now that we have an understanding of the distribution of sale price, let’s consider the so-what questions posed in the previous section. Why might the data shape matter? Do you have reason to expect that subgroups of the data have different distributions? What comparison might bring added value to the investigation?\n",
    "\n",
    "An initial attempt to answer the first question is that models and statistics based on symmetric distributions tend to have more robust and stable properties than for highly skewed distributions. We address this issue more in the modeling sections of the book. For this reason, we primarily work with the log-transformed sale price. And, we might also choose to limit our analysis to sale prices under $6m since the super-expensive houses may behave quite differently.\n",
    "\n",
    "To begin to answer the second and third questions, we turn to our knowledge of the housing market in this time period. Sale prices for houses rose rapidly in the mid ’00s, and then the bottom fell out of the market (Reference). For this reason, the distribution of sale price in, say, 2004, might be quite different than in 2008, right before the crash. To explore this further we can examine the behavior of prices over time. Or we can fix time, and examine the relationships between price and the other features of interest, essentially controlling for a time effect. Both approaches are potentially worthwhile, and we proceed with both.\n",
    "\n",
    "Another factor to consider is location. You may have heard the expression: There are three things that matter in property: location, location, location. Comparing price across cities might bring added value to our investigation.\n",
    "\n",
    "One approach to EDA is to narrow our focus. In this way we can control for particular features, such as time. We do this by first limiting the data to sales made in one calendar year, 2004, so rising prices should have a limited impact on the distributions and relationships that we examine. To limit the influence of the very expensive and large houses, we also restrict ourselves to sales below $4m and houses smaller than 12,000 ft^2. This subset still contains large and expensive houses, but not outrageously so. Later, we further restrict our exploration to a few cities of interest."
   ]
  },
  {
   "cell_type": "code",
   "execution_count": 12,
   "id": "b0819c27-efaa-4fe1-b163-553744f4c7d0",
   "metadata": {},
   "outputs": [
    {
     "data": {
      "text/html": [
       "<div>\n",
       "<style scoped>\n",
       "    .dataframe tbody tr th:only-of-type {\n",
       "        vertical-align: middle;\n",
       "    }\n",
       "\n",
       "    .dataframe tbody tr th {\n",
       "        vertical-align: top;\n",
       "    }\n",
       "\n",
       "    .dataframe thead th {\n",
       "        text-align: right;\n",
       "    }\n",
       "</style>\n",
       "<table border=\"1\" class=\"dataframe\">\n",
       "  <thead>\n",
       "    <tr style=\"text-align: right;\">\n",
       "      <th></th>\n",
       "      <th>county</th>\n",
       "      <th>city</th>\n",
       "      <th>zip</th>\n",
       "      <th>street</th>\n",
       "      <th>...</th>\n",
       "      <th>bsqft</th>\n",
       "      <th>year</th>\n",
       "      <th>date</th>\n",
       "      <th>datesold</th>\n",
       "    </tr>\n",
       "  </thead>\n",
       "  <tbody>\n",
       "    <tr>\n",
       "      <th>0</th>\n",
       "      <td>Alameda County</td>\n",
       "      <td>Alameda</td>\n",
       "      <td>94501.00</td>\n",
       "      <td>1001 Post Street</td>\n",
       "      <td>...</td>\n",
       "      <td>1982.00</td>\n",
       "      <td>1950.00</td>\n",
       "      <td>2004-08-29</td>\n",
       "      <td>NaN</td>\n",
       "    </tr>\n",
       "    <tr>\n",
       "      <th>1</th>\n",
       "      <td>Alameda County</td>\n",
       "      <td>Alameda</td>\n",
       "      <td>94501.00</td>\n",
       "      <td>1001 Santa Clara Avenue</td>\n",
       "      <td>...</td>\n",
       "      <td>3866.00</td>\n",
       "      <td>1995.00</td>\n",
       "      <td>2005-11-06</td>\n",
       "      <td>NaN</td>\n",
       "    </tr>\n",
       "    <tr>\n",
       "      <th>2</th>\n",
       "      <td>Alameda County</td>\n",
       "      <td>Alameda</td>\n",
       "      <td>94501.00</td>\n",
       "      <td>1001 Shoreline Drive \\#102</td>\n",
       "      <td>...</td>\n",
       "      <td>1360.00</td>\n",
       "      <td>1970.00</td>\n",
       "      <td>2003-09-21</td>\n",
       "      <td>NaN</td>\n",
       "    </tr>\n",
       "    <tr>\n",
       "      <th>...</th>\n",
       "      <td>...</td>\n",
       "      <td>...</td>\n",
       "      <td>...</td>\n",
       "      <td>...</td>\n",
       "      <td>...</td>\n",
       "      <td>...</td>\n",
       "      <td>...</td>\n",
       "      <td>...</td>\n",
       "      <td>...</td>\n",
       "    </tr>\n",
       "    <tr>\n",
       "      <th>521484</th>\n",
       "      <td>Sonoma County</td>\n",
       "      <td>Windsor</td>\n",
       "      <td>95492.00</td>\n",
       "      <td>998 Polaris Drive</td>\n",
       "      <td>...</td>\n",
       "      <td>1196.00</td>\n",
       "      <td>1973.00</td>\n",
       "      <td>2007-08-05</td>\n",
       "      <td>NaN</td>\n",
       "    </tr>\n",
       "    <tr>\n",
       "      <th>521487</th>\n",
       "      <td>Sonoma County</td>\n",
       "      <td>Windsor</td>\n",
       "      <td>95492.00</td>\n",
       "      <td>9992 Wallace Way</td>\n",
       "      <td>...</td>\n",
       "      <td>1158.00</td>\n",
       "      <td>1993.00</td>\n",
       "      <td>2005-05-15</td>\n",
       "      <td>NaN</td>\n",
       "    </tr>\n",
       "    <tr>\n",
       "      <th>521490</th>\n",
       "      <td>Sonoma County</td>\n",
       "      <td>Windsor</td>\n",
       "      <td>95492.00</td>\n",
       "      <td>999 Gemini Drive</td>\n",
       "      <td>...</td>\n",
       "      <td>1092.00</td>\n",
       "      <td>1973.00</td>\n",
       "      <td>2003-09-21</td>\n",
       "      <td>NaN</td>\n",
       "    </tr>\n",
       "  </tbody>\n",
       "</table>\n",
       "<p>443935 rows × 11 columns</p>\n",
       "</div>"
      ],
      "text/plain": [
       "                county     city      zip                      street  ...  \\\n",
       "0       Alameda County  Alameda 94501.00            1001 Post Street  ...   \n",
       "1       Alameda County  Alameda 94501.00     1001 Santa Clara Avenue  ...   \n",
       "2       Alameda County  Alameda 94501.00  1001 Shoreline Drive \\#102  ...   \n",
       "...                ...      ...      ...                         ...  ...   \n",
       "521484   Sonoma County  Windsor 95492.00           998 Polaris Drive  ...   \n",
       "521487   Sonoma County  Windsor 95492.00            9992 Wallace Way  ...   \n",
       "521490   Sonoma County  Windsor 95492.00            999 Gemini Drive  ...   \n",
       "\n",
       "         bsqft    year        date  datesold  \n",
       "0      1982.00 1950.00  2004-08-29       NaN  \n",
       "1      3866.00 1995.00  2005-11-06       NaN  \n",
       "2      1360.00 1970.00  2003-09-21       NaN  \n",
       "...        ...     ...         ...       ...  \n",
       "521484 1196.00 1973.00  2007-08-05       NaN  \n",
       "521487 1158.00 1993.00  2005-05-15       NaN  \n",
       "521490 1092.00 1973.00  2003-09-21       NaN  \n",
       "\n",
       "[443935 rows x 11 columns]"
      ]
     },
     "execution_count": 12,
     "metadata": {},
     "output_type": "execute_result"
    }
   ],
   "source": [
    "def subset(df):\n",
    "    return df.loc[(df['price'] < 4_000_000) &\n",
    "                  (df['bsqft'] < 12_000)]\n",
    "sfh = sfh_all.pipe(subset)\n",
    "sfh"
   ]
  },
  {
   "cell_type": "markdown",
   "id": "d822b627-299c-461e-8bb9-2a274c349af4",
   "metadata": {},
   "source": [
    "For this subset, the shape of the distribution of sale price remains the same—price is still highly skewed to the right. We continue to work with this subset to address the question: Are there any potentially important features to create comparisons with/against?"
   ]
  },
  {
   "cell_type": "code",
   "execution_count": null,
   "id": "dd5fe46e-0420-4c38-b870-573595903c05",
   "metadata": {},
   "outputs": [],
   "source": []
  }
 ],
 "metadata": {
  "kernelspec": {
   "display_name": "Python 3 (ipykernel)",
   "language": "python",
   "name": "python3"
  },
  "language_info": {
   "codemirror_mode": {
    "name": "ipython",
    "version": 3
   },
   "file_extension": ".py",
   "mimetype": "text/x-python",
   "name": "python",
   "nbconvert_exporter": "python",
   "pygments_lexer": "ipython3",
   "version": "3.9.12"
  }
 },
 "nbformat": 4,
 "nbformat_minor": 5
}
