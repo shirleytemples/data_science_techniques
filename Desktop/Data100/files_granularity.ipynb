{
 "cells": [
  {
   "cell_type": "code",
   "execution_count": 24,
   "id": "1f0b5b42-8d96-4c3f-aa4b-98c98934c261",
   "metadata": {},
   "outputs": [],
   "source": [
    "import sys\n",
    "import os\n",
    "import pandas as pd\n",
    "import numpy as np"
   ]
  },
  {
   "cell_type": "markdown",
   "id": "2c50648a-e5df-4d05-bde0-121c4026493a",
   "metadata": {},
   "source": [
    "# 8.5. Table Shape and Granularity"
   ]
  },
  {
   "cell_type": "markdown",
   "id": "aae25c57-f086-4c9e-b91d-e468fb5960d1",
   "metadata": {},
   "source": [
    "In this section, we introduce granularity: what each row in the table represents.\n",
    "\n",
    "As described earlier, we refer to a dataset’s structure as a mental representation of the data, and in particular, we represent data that has a table structure by arranging data values in rows and columns. Now that we have investigated the restaurant inspection files, we load them into dataframes and examine their shapes.\n",
    "\n"
   ]
  },
  {
   "cell_type": "code",
   "execution_count": 5,
   "id": "573a8bba-9950-4a90-a7b5-b618c2a0ea94",
   "metadata": {},
   "outputs": [],
   "source": [
    "bus = pd.read_csv('data/businesses.csv', encoding='ISO-8859-1')\n",
    "insp = pd.read_csv(\"data/inspections.csv\")\n",
    "viol = pd.read_csv(\"data/violations.csv\")"
   ]
  },
  {
   "cell_type": "code",
   "execution_count": 6,
   "id": "6769ad49-0ca8-4094-b862-8976ca1dac70",
   "metadata": {},
   "outputs": [
    {
     "name": "stdout",
     "output_type": "stream",
     "text": [
      " Businesses shape: (6406, 9)\n",
      "Inspections shape: (14222, 4)\n",
      " Violations shape: (39042, 3)\n"
     ]
    }
   ],
   "source": [
    "print(\" Businesses shape:\", bus.shape)\n",
    "print(\"Inspections shape:\", insp.shape)\n",
    "print(\" Violations shape:\", viol.shape)"
   ]
  },
  {
   "cell_type": "markdown",
   "id": "c69bbe7c-1956-48f6-819e-f10b0cedb4f2",
   "metadata": {},
   "source": [
    "We find that the businesses table has 6406 rows and 9 columns. Now, let’s figure out the granularity of this table by understanding what each row represents. To start, we’ll look at the first two rows."
   ]
  },
  {
   "cell_type": "code",
   "execution_count": 7,
   "id": "169b7404-ea5e-4bc2-87b1-a5b7cfe716eb",
   "metadata": {},
   "outputs": [
    {
     "data": {
      "text/html": [
       "<div>\n",
       "<style scoped>\n",
       "    .dataframe tbody tr th:only-of-type {\n",
       "        vertical-align: middle;\n",
       "    }\n",
       "\n",
       "    .dataframe tbody tr th {\n",
       "        vertical-align: top;\n",
       "    }\n",
       "\n",
       "    .dataframe thead th {\n",
       "        text-align: right;\n",
       "    }\n",
       "</style>\n",
       "<table border=\"1\" class=\"dataframe\">\n",
       "  <thead>\n",
       "    <tr style=\"text-align: right;\">\n",
       "      <th></th>\n",
       "      <th>business_id</th>\n",
       "      <th>name</th>\n",
       "      <th>address</th>\n",
       "      <th>city</th>\n",
       "      <th>state</th>\n",
       "      <th>postal_code</th>\n",
       "      <th>latitude</th>\n",
       "      <th>longitude</th>\n",
       "      <th>phone_number</th>\n",
       "    </tr>\n",
       "  </thead>\n",
       "  <tbody>\n",
       "    <tr>\n",
       "      <th>0</th>\n",
       "      <td>19</td>\n",
       "      <td>NRGIZE LIFESTYLE CAFE</td>\n",
       "      <td>1200 VAN NESS AVE, 3RD FLOOR</td>\n",
       "      <td>San Francisco</td>\n",
       "      <td>CA</td>\n",
       "      <td>94109</td>\n",
       "      <td>37.786848</td>\n",
       "      <td>-122.421547</td>\n",
       "      <td>+14157763262</td>\n",
       "    </tr>\n",
       "    <tr>\n",
       "      <th>1</th>\n",
       "      <td>24</td>\n",
       "      <td>OMNI S.F. HOTEL - 2ND FLOOR PANTRY</td>\n",
       "      <td>500 CALIFORNIA ST, 2ND  FLOOR</td>\n",
       "      <td>San Francisco</td>\n",
       "      <td>CA</td>\n",
       "      <td>94104</td>\n",
       "      <td>37.792888</td>\n",
       "      <td>-122.403135</td>\n",
       "      <td>+14156779494</td>\n",
       "    </tr>\n",
       "  </tbody>\n",
       "</table>\n",
       "</div>"
      ],
      "text/plain": [
       "   business_id                                name  \\\n",
       "0           19               NRGIZE LIFESTYLE CAFE   \n",
       "1           24  OMNI S.F. HOTEL - 2ND FLOOR PANTRY   \n",
       "\n",
       "                         address           city state postal_code   latitude  \\\n",
       "0   1200 VAN NESS AVE, 3RD FLOOR  San Francisco    CA       94109  37.786848   \n",
       "1  500 CALIFORNIA ST, 2ND  FLOOR  San Francisco    CA       94104  37.792888   \n",
       "\n",
       "    longitude  phone_number  \n",
       "0 -122.421547  +14157763262  \n",
       "1 -122.403135  +14156779494  "
      ]
     },
     "execution_count": 7,
     "metadata": {},
     "output_type": "execute_result"
    }
   ],
   "source": [
    "bus.head(2)"
   ]
  },
  {
   "cell_type": "markdown",
   "id": "7e642c56-6f3e-4152-b659-9ceb73577f4a",
   "metadata": {},
   "source": [
    "Simply looking at these two rows, we get the impression that each record represents a single restaurant. But, we can’t tell from just two records whether or not this is the case. The field name **business_id** implies that it is the unique identifier for the business (restaurant). We can confirm this by checking whether the number of records in bus matches the number of unique values in **business_id**."
   ]
  },
  {
   "cell_type": "code",
   "execution_count": 8,
   "id": "4a76a992-3cfa-4b6f-b3f3-c4fae4e1d8da",
   "metadata": {},
   "outputs": [
    {
     "name": "stdout",
     "output_type": "stream",
     "text": [
      "Number of records: 6406\n",
      "Number of unique business ids: 6406\n"
     ]
    }
   ],
   "source": [
    "print(\"Number of records:\", len(bus))\n",
    "print(\"Number of unique business ids:\", len(bus['business_id'].unique()))"
   ]
  },
  {
   "cell_type": "markdown",
   "id": "4b0f1974-b904-4532-bf3f-0d713387d9d9",
   "metadata": {},
   "source": [
    "The number of unique business_ids matches the number of rows in the table. In other words, business_id uniquely identifies each record in the DataFrame. We call business_id the primary key for the table. A primary key is the feature that uniquely identifies each row in a table. We use primary keys to join tables like in ```{numref}Chapter %s <ch:pandas>```. Sometimes a primary key consists of two (or more) features. This is the case for the other two restaurant files. Let's continue the examination of the inspections and violations data frames and find their granularity."
   ]
  },
  {
   "cell_type": "markdown",
   "id": "403b058c-d370-45ce-bbc5-2f94dc9ec31e",
   "metadata": {},
   "source": [
    "## Granularity of Restaurant Inspections and Violations"
   ]
  },
  {
   "cell_type": "markdown",
   "id": "e07018cb-049a-4d99-8e54-a3c938cc71ae",
   "metadata": {},
   "source": [
    "We saw earlier in this chapter that there are many more rows in the inspections table compared to the business table. Let's take a closer look at the first few rows of inspections."
   ]
  },
  {
   "cell_type": "code",
   "execution_count": 10,
   "id": "2a6084a5-98db-46a2-b376-ee78de081aef",
   "metadata": {},
   "outputs": [
    {
     "data": {
      "text/html": [
       "<div>\n",
       "<style scoped>\n",
       "    .dataframe tbody tr th:only-of-type {\n",
       "        vertical-align: middle;\n",
       "    }\n",
       "\n",
       "    .dataframe tbody tr th {\n",
       "        vertical-align: top;\n",
       "    }\n",
       "\n",
       "    .dataframe thead th {\n",
       "        text-align: right;\n",
       "    }\n",
       "</style>\n",
       "<table border=\"1\" class=\"dataframe\">\n",
       "  <thead>\n",
       "    <tr style=\"text-align: right;\">\n",
       "      <th></th>\n",
       "      <th>business_id</th>\n",
       "      <th>score</th>\n",
       "      <th>date</th>\n",
       "      <th>type</th>\n",
       "    </tr>\n",
       "  </thead>\n",
       "  <tbody>\n",
       "    <tr>\n",
       "      <th>0</th>\n",
       "      <td>19</td>\n",
       "      <td>94</td>\n",
       "      <td>20160513</td>\n",
       "      <td>routine</td>\n",
       "    </tr>\n",
       "    <tr>\n",
       "      <th>1</th>\n",
       "      <td>19</td>\n",
       "      <td>94</td>\n",
       "      <td>20171211</td>\n",
       "      <td>routine</td>\n",
       "    </tr>\n",
       "    <tr>\n",
       "      <th>2</th>\n",
       "      <td>24</td>\n",
       "      <td>98</td>\n",
       "      <td>20171101</td>\n",
       "      <td>routine</td>\n",
       "    </tr>\n",
       "    <tr>\n",
       "      <th>3</th>\n",
       "      <td>24</td>\n",
       "      <td>98</td>\n",
       "      <td>20161005</td>\n",
       "      <td>routine</td>\n",
       "    </tr>\n",
       "  </tbody>\n",
       "</table>\n",
       "</div>"
      ],
      "text/plain": [
       "   business_id  score      date     type\n",
       "0           19     94  20160513  routine\n",
       "1           19     94  20171211  routine\n",
       "2           24     98  20171101  routine\n",
       "3           24     98  20161005  routine"
      ]
     },
     "execution_count": 10,
     "metadata": {},
     "output_type": "execute_result"
    }
   ],
   "source": [
    "insp.head(4)"
   ]
  },
  {
   "cell_type": "markdown",
   "id": "d802732a-526c-412e-a448-3e0693724fe6",
   "metadata": {},
   "source": [
    "Like the businesses table, this table also contains a field called ```business_id```, but we see duplicate values of the ID. The two records for business #19 have different date values, which implies that there is one record for each inspection of a restaurant. In other words, the granularity of this table is a restaurant inspection. If this is indeed the case, that would mean that the unique identifier of a row is the combination of ```business_id``` and ```date```. That is, the primary key consists of two fields.\n",
    "\n",
    "To confirm that the two fields form a primary key, we can group insp by the combination of ```business_id``` and ```date```, and then find the size of each group. If ```business_id``` and ```date``` uniquely define each row of the dataframe, then each group should have size 1."
   ]
  },
  {
   "cell_type": "code",
   "execution_count": 11,
   "id": "0523474d-24f4-4e57-8c52-b52027cf9496",
   "metadata": {},
   "outputs": [
    {
     "data": {
      "text/plain": [
       "business_id  date    \n",
       "64859        20150924    2\n",
       "87440        20160801    2\n",
       "77427        20170706    2\n",
       "19           20160513    1\n",
       "71416        20171213    1\n",
       "dtype: int64"
      ]
     },
     "execution_count": 11,
     "metadata": {},
     "output_type": "execute_result"
    }
   ],
   "source": [
    "(insp\n",
    " .groupby(['business_id', 'date'])\n",
    " .size()\n",
    " .sort_values(ascending=False)\n",
    " .head(5)\n",
    ")"
   ]
  },
  {
   "cell_type": "markdown",
   "id": "5c880193-ab7e-4879-9b72-37d547916bf8",
   "metadata": {},
   "source": [
    "The combination of ID and date, uniquely identifies each record in the inspections table, with the exception of three restaurants, which have two records for their ID-date combination. For example, restaurant ```64859``` has two records with an inspection date of ```20150924```. Let's examine these rows."
   ]
  },
  {
   "cell_type": "code",
   "execution_count": 12,
   "id": "447b904d-6f8a-47df-941d-f0c355d123d0",
   "metadata": {},
   "outputs": [
    {
     "data": {
      "text/html": [
       "<div>\n",
       "<style scoped>\n",
       "    .dataframe tbody tr th:only-of-type {\n",
       "        vertical-align: middle;\n",
       "    }\n",
       "\n",
       "    .dataframe tbody tr th {\n",
       "        vertical-align: top;\n",
       "    }\n",
       "\n",
       "    .dataframe thead th {\n",
       "        text-align: right;\n",
       "    }\n",
       "</style>\n",
       "<table border=\"1\" class=\"dataframe\">\n",
       "  <thead>\n",
       "    <tr style=\"text-align: right;\">\n",
       "      <th></th>\n",
       "      <th>business_id</th>\n",
       "      <th>score</th>\n",
       "      <th>date</th>\n",
       "      <th>type</th>\n",
       "    </tr>\n",
       "  </thead>\n",
       "  <tbody>\n",
       "    <tr>\n",
       "      <th>7742</th>\n",
       "      <td>64859</td>\n",
       "      <td>96</td>\n",
       "      <td>20150924</td>\n",
       "      <td>routine</td>\n",
       "    </tr>\n",
       "    <tr>\n",
       "      <th>7744</th>\n",
       "      <td>64859</td>\n",
       "      <td>91</td>\n",
       "      <td>20150924</td>\n",
       "      <td>routine</td>\n",
       "    </tr>\n",
       "  </tbody>\n",
       "</table>\n",
       "</div>"
      ],
      "text/plain": [
       "      business_id  score      date     type\n",
       "7742        64859     96  20150924  routine\n",
       "7744        64859     91  20150924  routine"
      ]
     },
     "execution_count": 12,
     "metadata": {},
     "output_type": "execute_result"
    }
   ],
   "source": [
    "insp.query('business_id == 64859 and date == 20150924')"
   ]
  },
  {
   "cell_type": "markdown",
   "id": "10066f4e-ebfb-4df8-a190-42ef5f36e560",
   "metadata": {},
   "source": [
    "Restaurant ```64859``` got two different inspection scores on ```20150924``` (Sept. 24, 2015). How could this happen? It may be that the restaurant had two inspections in one day, or it might be an error. We address these sorts of questions when we consider the data quality in {numref}```Chapter %s <ch:wrangling>```. In this case, we'll assume that a restaurant can have two inspections on the same date. So, the primary key for the inspections table is the combination of restaurant ID and inspection date.\n",
    "\n",
    "Note that the ```business_id``` field in the inspections table acts as a reference to the primary key in the business table. Because of this, ```business_id``` in ```insp``` is called a foreign key: it links each record in the inspections table to a record in the business table. This means that we can readily join these two tables together.\n",
    "\n",
    "Next, we examine the granularity of the violations table."
   ]
  },
  {
   "cell_type": "code",
   "execution_count": 13,
   "id": "0dab1ea2-5c82-4e6c-94b7-3746caffeba7",
   "metadata": {},
   "outputs": [
    {
     "data": {
      "text/html": [
       "<div>\n",
       "<style scoped>\n",
       "    .dataframe tbody tr th:only-of-type {\n",
       "        vertical-align: middle;\n",
       "    }\n",
       "\n",
       "    .dataframe tbody tr th {\n",
       "        vertical-align: top;\n",
       "    }\n",
       "\n",
       "    .dataframe thead th {\n",
       "        text-align: right;\n",
       "    }\n",
       "</style>\n",
       "<table border=\"1\" class=\"dataframe\">\n",
       "  <thead>\n",
       "    <tr style=\"text-align: right;\">\n",
       "      <th></th>\n",
       "      <th>business_id</th>\n",
       "      <th>date</th>\n",
       "      <th>description</th>\n",
       "    </tr>\n",
       "  </thead>\n",
       "  <tbody>\n",
       "    <tr>\n",
       "      <th>0</th>\n",
       "      <td>19</td>\n",
       "      <td>20171211</td>\n",
       "      <td>Inadequate food safety knowledge or lack of ce...</td>\n",
       "    </tr>\n",
       "    <tr>\n",
       "      <th>1</th>\n",
       "      <td>19</td>\n",
       "      <td>20171211</td>\n",
       "      <td>Unapproved or unmaintained equipment or utensils</td>\n",
       "    </tr>\n",
       "    <tr>\n",
       "      <th>2</th>\n",
       "      <td>19</td>\n",
       "      <td>20160513</td>\n",
       "      <td>Unapproved or unmaintained equipment or utensi...</td>\n",
       "    </tr>\n",
       "    <tr>\n",
       "      <th>3</th>\n",
       "      <td>19</td>\n",
       "      <td>20160513</td>\n",
       "      <td>Unclean or degraded floors walls or ceilings  ...</td>\n",
       "    </tr>\n",
       "    <tr>\n",
       "      <th>4</th>\n",
       "      <td>19</td>\n",
       "      <td>20160513</td>\n",
       "      <td>Food safety certificate or food handler card n...</td>\n",
       "    </tr>\n",
       "    <tr>\n",
       "      <th>...</th>\n",
       "      <td>...</td>\n",
       "      <td>...</td>\n",
       "      <td>...</td>\n",
       "    </tr>\n",
       "    <tr>\n",
       "      <th>39037</th>\n",
       "      <td>94189</td>\n",
       "      <td>20171130</td>\n",
       "      <td>Insufficient hot water or running water</td>\n",
       "    </tr>\n",
       "    <tr>\n",
       "      <th>39038</th>\n",
       "      <td>94231</td>\n",
       "      <td>20171214</td>\n",
       "      <td>Unclean nonfood contact surfaces  [ date viola...</td>\n",
       "    </tr>\n",
       "    <tr>\n",
       "      <th>39039</th>\n",
       "      <td>94231</td>\n",
       "      <td>20171214</td>\n",
       "      <td>High risk vermin infestation  [ date violation...</td>\n",
       "    </tr>\n",
       "    <tr>\n",
       "      <th>39040</th>\n",
       "      <td>94231</td>\n",
       "      <td>20171214</td>\n",
       "      <td>Moderate risk food holding temperature   [ dat...</td>\n",
       "    </tr>\n",
       "    <tr>\n",
       "      <th>39041</th>\n",
       "      <td>94231</td>\n",
       "      <td>20171214</td>\n",
       "      <td>Wiping cloths not clean or properly stored or ...</td>\n",
       "    </tr>\n",
       "  </tbody>\n",
       "</table>\n",
       "<p>39042 rows × 3 columns</p>\n",
       "</div>"
      ],
      "text/plain": [
       "       business_id      date  \\\n",
       "0               19  20171211   \n",
       "1               19  20171211   \n",
       "2               19  20160513   \n",
       "3               19  20160513   \n",
       "4               19  20160513   \n",
       "...            ...       ...   \n",
       "39037        94189  20171130   \n",
       "39038        94231  20171214   \n",
       "39039        94231  20171214   \n",
       "39040        94231  20171214   \n",
       "39041        94231  20171214   \n",
       "\n",
       "                                             description  \n",
       "0      Inadequate food safety knowledge or lack of ce...  \n",
       "1       Unapproved or unmaintained equipment or utensils  \n",
       "2      Unapproved or unmaintained equipment or utensi...  \n",
       "3      Unclean or degraded floors walls or ceilings  ...  \n",
       "4      Food safety certificate or food handler card n...  \n",
       "...                                                  ...  \n",
       "39037            Insufficient hot water or running water  \n",
       "39038  Unclean nonfood contact surfaces  [ date viola...  \n",
       "39039  High risk vermin infestation  [ date violation...  \n",
       "39040  Moderate risk food holding temperature   [ dat...  \n",
       "39041  Wiping cloths not clean or properly stored or ...  \n",
       "\n",
       "[39042 rows x 3 columns]"
      ]
     },
     "execution_count": 13,
     "metadata": {},
     "output_type": "execute_result"
    }
   ],
   "source": [
    "viol"
   ]
  },
  {
   "cell_type": "markdown",
   "id": "d3e22998-1921-4507-9ff4-ad9e7ea6f721",
   "metadata": {},
   "source": [
    "Just looking at the first few records in viol we see that each inspection has multiple entries. The granularity is at the level of a violation found in an inspection. Reading the descriptions, we see that if corrected, a date is listed in the description within square brackets."
   ]
  },
  {
   "cell_type": "code",
   "execution_count": 14,
   "id": "0f4c0bfa-695e-4959-a204-55678e8d9811",
   "metadata": {},
   "outputs": [
    {
     "data": {
      "text/plain": [
       "'High risk vermin infestation  [ date violation corrected: 12/15/2017 ]'"
      ]
     },
     "execution_count": 14,
     "metadata": {},
     "output_type": "execute_result"
    }
   ],
   "source": [
    "viol.loc[39039, 'description']"
   ]
  },
  {
   "cell_type": "markdown",
   "id": "3713d327-e29d-4d44-9924-630add7443d0",
   "metadata": {},
   "source": [
    "In summary, we have found that these three tables have different granularities. If we are interested in studying inspections, we can join the violations and inspections together using the business ID and inspection date. This would let us find the number of violations that happened in each inspection.\n",
    "\n",
    "We can also reduce the inspection table by selecting the most recent inspection for each restaurant. This reduced data table essentially has a granularity of restaurant, which may be useful for a restaurant-based analysis. These kinds of actions reshape the data table, transform columns, and create new columns. We'll cover these operations in {numref}```Chapter %s <ch:wrangling>```.\n",
    "\n",
    "We conclude this section with a look at the shape and granularity of the DAWN survey data."
   ]
  },
  {
   "cell_type": "markdown",
   "id": "e92700c6-fda6-4c07-b5ef-7d7ef20d440f",
   "metadata": {},
   "source": [
    "## DAWN Survey Shape and Granularity"
   ]
  },
  {
   "cell_type": "markdown",
   "id": "d1f867a2-8127-44bc-81e7-b15796e71fb3",
   "metadata": {},
   "source": [
    "As noted earlier in this chapter, the DAWN file has fixed-width formatting, and we need to rely on a codebook to find out where the fields are. For example, a snippet of the codebook in {numref}```Figure %s <DAWN_Age>``` tells us that age appears in positions 34 and 35 in the row, and it is categorized into 11 age groups, 1 stands for 5 and under, 2 for 6 to 11, ..., and 11 for 65 and older. Also, -8 represents a missing value."
   ]
  },
  {
   "cell_type": "markdown",
   "id": "5d9adff1-d0f5-47fc-80b9-1c6073a140a1",
   "metadata": {},
   "source": [
    "```{figure} figures/DAWN_Age.png\n",
    "name: DAWN_Age\n",
    "Screenshot of a portion of the DAWN coding for age. ```"
   ]
  },
  {
   "cell_type": "markdown",
   "id": "d14bf06c-0d15-4493-adab-3566e0e5444b",
   "metadata": {},
   "source": [
    "Earlier, we determined the file contains 200 thousand lines and over 280 million characters so, on average, there are about 1200 characters per line. This might be why they used a fixed-width file rather than a CSV file; the file would be much larger if there was a comma between every field!\n",
    "\n",
    "Given the tremendous amount of information on each line, we read just a few variables into a data frame. We can use the pandas.read_fwf method to do this. We specify the exact positions of the fields to extract, provide names for these fields, and other information about the header and index."
   ]
  },
  {
   "cell_type": "code",
   "execution_count": 17,
   "id": "8c4bef4b-7388-4db1-b749-41b56a9df831",
   "metadata": {},
   "outputs": [],
   "source": [
    "colspecs = [(0,6), (14,29), (33,35), (35, 37), (37, 39), (1213, 1214)]\n",
    "varNames = [\"id\", \"wt\", \"age\", \"sex\", \"race\",\"type\"]\n",
    "dawn = pd.read_fwf('data/DAWN-Data.txt', colspecs=colspecs, \n",
    "                   header=None, index_col=0, names=varNames)"
   ]
  },
  {
   "cell_type": "code",
   "execution_count": 18,
   "id": "f54300a1-c036-4360-9f41-049ed6a1ff42",
   "metadata": {},
   "outputs": [
    {
     "data": {
      "text/html": [
       "<div>\n",
       "<style scoped>\n",
       "    .dataframe tbody tr th:only-of-type {\n",
       "        vertical-align: middle;\n",
       "    }\n",
       "\n",
       "    .dataframe tbody tr th {\n",
       "        vertical-align: top;\n",
       "    }\n",
       "\n",
       "    .dataframe thead th {\n",
       "        text-align: right;\n",
       "    }\n",
       "</style>\n",
       "<table border=\"1\" class=\"dataframe\">\n",
       "  <thead>\n",
       "    <tr style=\"text-align: right;\">\n",
       "      <th></th>\n",
       "      <th>wt</th>\n",
       "      <th>age</th>\n",
       "      <th>sex</th>\n",
       "      <th>race</th>\n",
       "      <th>type</th>\n",
       "    </tr>\n",
       "    <tr>\n",
       "      <th>id</th>\n",
       "      <th></th>\n",
       "      <th></th>\n",
       "      <th></th>\n",
       "      <th></th>\n",
       "      <th></th>\n",
       "    </tr>\n",
       "  </thead>\n",
       "  <tbody>\n",
       "    <tr>\n",
       "      <th>1</th>\n",
       "      <td>0.942635</td>\n",
       "      <td>4</td>\n",
       "      <td>1</td>\n",
       "      <td>2</td>\n",
       "      <td>8</td>\n",
       "    </tr>\n",
       "    <tr>\n",
       "      <th>2</th>\n",
       "      <td>5.992011</td>\n",
       "      <td>11</td>\n",
       "      <td>1</td>\n",
       "      <td>3</td>\n",
       "      <td>4</td>\n",
       "    </tr>\n",
       "    <tr>\n",
       "      <th>3</th>\n",
       "      <td>4.723172</td>\n",
       "      <td>11</td>\n",
       "      <td>2</td>\n",
       "      <td>2</td>\n",
       "      <td>4</td>\n",
       "    </tr>\n",
       "    <tr>\n",
       "      <th>4</th>\n",
       "      <td>4.080147</td>\n",
       "      <td>2</td>\n",
       "      <td>1</td>\n",
       "      <td>3</td>\n",
       "      <td>4</td>\n",
       "    </tr>\n",
       "    <tr>\n",
       "      <th>5</th>\n",
       "      <td>5.177709</td>\n",
       "      <td>6</td>\n",
       "      <td>1</td>\n",
       "      <td>3</td>\n",
       "      <td>8</td>\n",
       "    </tr>\n",
       "  </tbody>\n",
       "</table>\n",
       "</div>"
      ],
      "text/plain": [
       "          wt  age  sex  race  type\n",
       "id                                \n",
       "1   0.942635    4    1     2     8\n",
       "2   5.992011   11    1     3     4\n",
       "3   4.723172   11    2     2     4\n",
       "4   4.080147    2    1     3     4\n",
       "5   5.177709    6    1     3     8"
      ]
     },
     "execution_count": 18,
     "metadata": {},
     "output_type": "execute_result"
    }
   ],
   "source": [
    "dawn.head()"
   ]
  },
  {
   "cell_type": "markdown",
   "id": "a64c0e5b-e76a-4509-959e-a126d947a66b",
   "metadata": {},
   "source": [
    "We can compare the rows in the table to the number of lines in the file."
   ]
  },
  {
   "cell_type": "code",
   "execution_count": 20,
   "id": "7e65e301-5280-4592-8905-df2aa449a594",
   "metadata": {},
   "outputs": [
    {
     "data": {
      "text/plain": [
       "(229211, 5)"
      ]
     },
     "execution_count": 20,
     "metadata": {},
     "output_type": "execute_result"
    }
   ],
   "source": [
    "dawn.shape"
   ]
  },
  {
   "cell_type": "markdown",
   "id": "03787b4d-f308-4f2a-a4b0-4c093e7e2f91",
   "metadata": {},
   "source": [
    "The number of rows in the data frame matches the number of lines in the file. That’s good. The granularity of the data frame is a bit complicated due to the survey design. Recall that these data are part of a large scientific study, with a complex sampling scheme. A row represents an emergency room visit, so the granularity is at the emergency room visit level. However, in order to reflect the sampling scheme and be representative of the population, weights are provided. We must apply a weight to each record when we compute summary statistics, build histograms, and fit models.\n",
    "\n",
    "The wt field contains a value that takes into account the probability of an ER visit like this one appearing in the sample. By “like this one” we mean a visit with similar features, like the visitor age, race, visit location, and time of day. We examine the different values in ```wt```."
   ]
  },
  {
   "cell_type": "code",
   "execution_count": 21,
   "id": "a8b73c3e-cf3f-40b8-88e8-6f1b3ead7428",
   "metadata": {},
   "outputs": [
    {
     "data": {
      "text/plain": [
       "0.938440     1719\n",
       "84.258821    1617\n",
       "1.724822     1435\n",
       "1.135506     1278\n",
       "4.921769     1274\n",
       "             ... \n",
       "6.038204        2\n",
       "6.203833        1\n",
       "1.511784        1\n",
       "3.306254        1\n",
       "3.330629        1\n",
       "Name: wt, Length: 3500, dtype: int64"
      ]
     },
     "execution_count": 21,
     "metadata": {},
     "output_type": "execute_result"
    }
   ],
   "source": [
    "dawn['wt'].value_counts()"
   ]
  },
  {
   "cell_type": "markdown",
   "id": "a5ffc351-05f6-4fc7-a751-b73cc86eb13b",
   "metadata": {},
   "source": [
    ":::{note}\n",
    "\n",
    "What do these weights mean? As a simplified example, suppose you ran a survey and 75% of your respondents reported their sex as female. Since you know from the Census that roughly 50% of the U.S. population is female, you can adjust your survey responses by using a small weight (less than 1) for female responses and a larger weight (greater than 1) for male responses. The DAWN survey uses the same idea, except that they split the groups much more finely.\n",
    "\n",
    ":::"
   ]
  },
  {
   "cell_type": "markdown",
   "id": "67bca33c-4e0a-478d-860e-e74611ab469d",
   "metadata": {},
   "source": [
    "It is critical to include the survey weights in your analysis to get data that represents the population at large. For example, we can compare the calculation of the proportion of females among the ER visits both with and without the weights."
   ]
  },
  {
   "cell_type": "code",
   "execution_count": 25,
   "id": "03239a30-eb6a-444a-9e4e-a4c78ea80dcb",
   "metadata": {},
   "outputs": [
    {
     "name": "stdout",
     "output_type": "stream",
     "text": [
      "Unweighted % female: 48.0%\n",
      "  Weighted % female: 52.3%\n"
     ]
    }
   ],
   "source": [
    "unweighted = np.average(dawn[\"sex\"] == 2)\n",
    "weighted = np.average(dawn[\"sex\"] == 2, weights=dawn[\"wt\"])\n",
    "\n",
    "print(f'Unweighted % female: {unweighted:.1%}')\n",
    "print(f'  Weighted % female: {weighted:.1%}')"
   ]
  },
  {
   "cell_type": "markdown",
   "id": "f593768d-6b69-4af6-b79f-280c0bf0663f",
   "metadata": {},
   "source": [
    "These figures differ by more than 4 percentage points. The weighted version is a more accurate estimate of the proportion of females among the entire population of drug-related ER visits.\n",
    "\n",
    "In this section, we discovered the granularity for the restaurant dataset tables and the DAWN data. Sometimes the granularity can be tricky to figure out, like we saw with the inspections data. And, we needed to take the sampling weights into account when looking at the granularity for the DAWN data. These examples show it's important to take your time and review the data descriptions before proceeding with analysis."
   ]
  }
 ],
 "metadata": {
  "kernelspec": {
   "display_name": "Python 3 (ipykernel)",
   "language": "python",
   "name": "python3"
  },
  "language_info": {
   "codemirror_mode": {
    "name": "ipython",
    "version": 3
   },
   "file_extension": ".py",
   "mimetype": "text/x-python",
   "name": "python",
   "nbconvert_exporter": "python",
   "pygments_lexer": "ipython3",
   "version": "3.9.12"
  }
 },
 "nbformat": 4,
 "nbformat_minor": 5
}
