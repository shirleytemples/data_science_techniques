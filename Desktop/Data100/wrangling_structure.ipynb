{
 "cells": [
  {
   "cell_type": "code",
   "execution_count": 1,
   "id": "2938208e-e54b-4256-b258-90eb0066a76c",
   "metadata": {},
   "outputs": [],
   "source": [
    "# Reference: https://jupyterbook.org/interactive/hiding.html\n",
    "# Use {hide, remove}-{input, output, cell} tags to hiding content\n",
    "\n",
    "import numpy as np\n",
    "import matplotlib.pyplot as plt\n",
    "import pandas as pd\n",
    "import seaborn as sns\n",
    "%matplotlib inline\n",
    "import ipywidgets as widgets\n",
    "from ipywidgets import interact, interactive, fixed, interact_manual\n",
    "from IPython.display import display\n",
    "#import myst_nb\n",
    "\n",
    "sns.set()\n",
    "sns.set_context('talk')\n",
    "np.set_printoptions(threshold=20, precision=2, suppress=True)\n",
    "pd.set_option('display.max_rows', 7)\n",
    "pd.set_option('display.max_columns', 8)\n",
    "#pd.set_option('precision', 2)\n",
    "# This option stops scientific notation for pandas\n",
    "# pd.set_option('display.float_format', '{:.2f}'.format)\n",
    "\n",
    "def display_df(df, rows=pd.options.display.max_rows,\n",
    "               cols=pd.options.display.max_columns):\n",
    "    with pd.option_context('display.max_rows', rows,\n",
    "                           'display.max_columns', cols):\n",
    "        display(df)\n",
    "        "
   ]
  },
  {
   "cell_type": "code",
   "execution_count": 2,
   "id": "e1b447c8-3da8-42d9-bbdd-3d1d959f6374",
   "metadata": {},
   "outputs": [],
   "source": [
    "co2 = pd.read_csv('data/co2_mm_mlo.txt', header=None, skiprows=72, \n",
    "                  sep='\\s+',\n",
    "                  names=['Yr', 'Mo', 'DecDate', 'Avg', 'Int', 'Trend', 'days'])\n",
    "co2_NA = co2.replace(-99.99, np.NaN)"
   ]
  },
  {
   "cell_type": "markdown",
   "id": "a4e9654a-d253-45a1-8b1c-0cfa77d004b5",
   "metadata": {},
   "source": [
    "# Modifying Structure"
   ]
  },
  {
   "cell_type": "markdown",
   "id": "937ecf6c-3563-4aaa-8f98-c445b9a6b925",
   "metadata": {},
   "source": [
    "If a dataframe has an inconvenient structure, it can be difficult to do the analysis that we want. The wrangling process often reshapes the data frame in some way to make the analysis easier and more natural. These changes can simply be taking a subset of the rows and/or columns of the table, changing its granularity, and reshaping. In this section, we’ll use the techniques from Chapter 6 to show how to modify structure."
   ]
  },
  {
   "cell_type": "markdown",
   "id": "76ef3733-7c44-468c-b344-16d0841ef42c",
   "metadata": {},
   "source": [
    "**Simplify Structure**. If a data frame has many features that are not needed in our analysis then we may want to drop these extraneous columns to make handling the data frame easier. Or, if we want to focus on a particular period of time or geographic area we may want to take a subset of the rows 1. In Section 8.5, we read into our data frame a small set of features from the hundreds available in the DAWN survey because we were interested in understanding the patterns of type of ER visit by demographics of the patient. Later, in Section %s, we restrict an analysis of home sale prices to one year and a few cities in an effort to limit the impact of inflation and to better study the effect of location on sale price."
   ]
  },
  {
   "cell_type": "markdown",
   "id": "81111f2b-e7ae-49a0-a807-c3c3f363bf2d",
   "metadata": {},
   "source": [
    "**Adjust Granularity**. In the previous Section 9.1, we provided an example where we aggregated monthly averages to a yearly average in order to visualize annual trends. In the following Section 9.6, we provide another example where we aggregate violation-level data to the inspection-level so that it can be combined with the inspection scores. In both of these examples, we adjust the granularity of the data frame to work with a coarser granularity by grouping together records and then aggregating values. Recall that for the CO2 measurements, we grouped the monthly values from the same year, and then aggregated the average CO2 measurements:"
   ]
  },
  {
   "cell_type": "code",
   "execution_count": 3,
   "id": "02361fcd-51c7-4245-8652-7628cae4c5b0",
   "metadata": {},
   "outputs": [
    {
     "data": {
      "text/plain": [
       "Yr\n",
       "1958    315.331250\n",
       "1959    315.974167\n",
       "1960    316.907500\n",
       "           ...    \n",
       "2017    406.553333\n",
       "2018    408.521667\n",
       "2019    412.271250\n",
       "Name: Avg, Length: 62, dtype: float64"
      ]
     },
     "execution_count": 3,
     "metadata": {},
     "output_type": "execute_result"
    }
   ],
   "source": [
    "co2_NA.groupby('Yr')['Avg'].mean()"
   ]
  },
  {
   "cell_type": "markdown",
   "id": "4e58809f-09ad-4198-bfc9-0115081c956a",
   "metadata": {},
   "source": [
    "Other common aggregations are: the size of the group; the sum, minimum, and maximum value in a group; and the first or last value in a group. The details of adjusting granularity of pandas data frames can be found in Section 6.2, including how to group by multiple column values.\n",
    "\n",
    "At times a dataset might have mixed granularity, where records are at different levels of detail. A common case is in data provided by government agencies where data at the county and state levels are included in the same file. When this happens, we usually want to split the data frame into two, one at the county level and the other at the state level. This makes a county level and state level analyses much easier, even feasible, to perform."
   ]
  },
  {
   "cell_type": "markdown",
   "id": "7ecd3d27-8cf5-4d30-85be-1e04dc7a421a",
   "metadata": {},
   "source": [
    "**Reshape**. Data, especially from government sources, are shared as pivot tables. These “wide” tables have data values as column names, and are often difficult to use in analysis. We may need to reshape them into a “long” form. Figure 9.2 depicts the same data stored in both wide and long data tables."
   ]
  },
  {
   "cell_type": "markdown",
   "id": "93ea8da5-4ce7-4fec-a80a-8d0afb218f5a",
   "metadata": {},
   "source": [
    "Long form data is also frequently called tidy data [Wickham, 2014]."
   ]
  },
  {
   "cell_type": "markdown",
   "id": "c42e29d0-7a1f-47c8-b55c-0deb5a15a6d1",
   "metadata": {},
   "source": [
    "We reshaped the CO2 data into a wide data frame that is like a pivot table in shape. There is a column for each month and a row for each year."
   ]
  },
  {
   "cell_type": "code",
   "execution_count": 4,
   "id": "cedd7c86-2c2a-4049-aaca-c2602675f629",
   "metadata": {},
   "outputs": [
    {
     "data": {
      "text/html": [
       "<div>\n",
       "<style scoped>\n",
       "    .dataframe tbody tr th:only-of-type {\n",
       "        vertical-align: middle;\n",
       "    }\n",
       "\n",
       "    .dataframe tbody tr th {\n",
       "        vertical-align: top;\n",
       "    }\n",
       "\n",
       "    .dataframe thead th {\n",
       "        text-align: right;\n",
       "    }\n",
       "</style>\n",
       "<table border=\"1\" class=\"dataframe\">\n",
       "  <thead>\n",
       "    <tr style=\"text-align: right;\">\n",
       "      <th>Mo</th>\n",
       "      <th>Yr</th>\n",
       "      <th>1</th>\n",
       "      <th>2</th>\n",
       "      <th>3</th>\n",
       "      <th>4</th>\n",
       "      <th>5</th>\n",
       "      <th>6</th>\n",
       "      <th>7</th>\n",
       "      <th>8</th>\n",
       "      <th>9</th>\n",
       "      <th>10</th>\n",
       "      <th>11</th>\n",
       "      <th>12</th>\n",
       "    </tr>\n",
       "  </thead>\n",
       "  <tbody>\n",
       "    <tr>\n",
       "      <th>0</th>\n",
       "      <td>1959</td>\n",
       "      <td>315.62</td>\n",
       "      <td>316.38</td>\n",
       "      <td>316.71</td>\n",
       "      <td>317.72</td>\n",
       "      <td>318.29</td>\n",
       "      <td>318.15</td>\n",
       "      <td>316.54</td>\n",
       "      <td>314.80</td>\n",
       "      <td>313.84</td>\n",
       "      <td>313.26</td>\n",
       "      <td>314.8</td>\n",
       "      <td>315.58</td>\n",
       "    </tr>\n",
       "    <tr>\n",
       "      <th>1</th>\n",
       "      <td>1960</td>\n",
       "      <td>316.43</td>\n",
       "      <td>316.97</td>\n",
       "      <td>317.58</td>\n",
       "      <td>319.02</td>\n",
       "      <td>320.03</td>\n",
       "      <td>319.59</td>\n",
       "      <td>318.18</td>\n",
       "      <td>315.91</td>\n",
       "      <td>314.16</td>\n",
       "      <td>313.83</td>\n",
       "      <td>315.0</td>\n",
       "      <td>316.19</td>\n",
       "    </tr>\n",
       "  </tbody>\n",
       "</table>\n",
       "</div>"
      ],
      "text/plain": [
       "Mo    Yr       1       2       3       4       5       6       7       8  \\\n",
       "0   1959  315.62  316.38  316.71  317.72  318.29  318.15  316.54  314.80   \n",
       "1   1960  316.43  316.97  317.58  319.02  320.03  319.59  318.18  315.91   \n",
       "\n",
       "Mo       9      10     11      12  \n",
       "0   313.84  313.26  314.8  315.58  \n",
       "1   314.16  313.83  315.0  316.19  "
      ]
     },
     "metadata": {},
     "output_type": "display_data"
    }
   ],
   "source": [
    "co2_pivot = pd.pivot_table(\n",
    "    co2[10:34],\n",
    "    index='Yr',   # Column to turn into new index\n",
    "    columns='Mo',  # Column to turn into new columns\n",
    "    values='Avg', # Column to aggregate for values\n",
    "    aggfunc=sum)    # Aggregation function\n",
    "\n",
    "co2_wide = co2_pivot.reset_index()\n",
    "\n",
    "display_df(co2_wide, cols=13)"
   ]
  },
  {
   "cell_type": "markdown",
   "id": "74af908e-3ac7-4143-af66-9915cf311363",
   "metadata": {},
   "source": [
    "The column headings are months, and the cell values in the grid are the CO2 monthly averages. We can turn this data frame back into a “tall” data frame, where the column names become a feature, called month, and the values in the grid are reorganized into a second feature, called average.\n",
    "\n"
   ]
  },
  {
   "cell_type": "code",
   "execution_count": 5,
   "id": "6f1046ad-05bf-4d8b-ad19-aeb5cb072337",
   "metadata": {},
   "outputs": [
    {
     "data": {
      "text/html": [
       "<div>\n",
       "<style scoped>\n",
       "    .dataframe tbody tr th:only-of-type {\n",
       "        vertical-align: middle;\n",
       "    }\n",
       "\n",
       "    .dataframe tbody tr th {\n",
       "        vertical-align: top;\n",
       "    }\n",
       "\n",
       "    .dataframe thead th {\n",
       "        text-align: right;\n",
       "    }\n",
       "</style>\n",
       "<table border=\"1\" class=\"dataframe\">\n",
       "  <thead>\n",
       "    <tr style=\"text-align: right;\">\n",
       "      <th></th>\n",
       "      <th>Yr</th>\n",
       "      <th>month</th>\n",
       "      <th>average</th>\n",
       "    </tr>\n",
       "  </thead>\n",
       "  <tbody>\n",
       "    <tr>\n",
       "      <th>0</th>\n",
       "      <td>1959</td>\n",
       "      <td>1</td>\n",
       "      <td>315.62</td>\n",
       "    </tr>\n",
       "    <tr>\n",
       "      <th>1</th>\n",
       "      <td>1960</td>\n",
       "      <td>1</td>\n",
       "      <td>316.43</td>\n",
       "    </tr>\n",
       "    <tr>\n",
       "      <th>2</th>\n",
       "      <td>1959</td>\n",
       "      <td>2</td>\n",
       "      <td>316.38</td>\n",
       "    </tr>\n",
       "    <tr>\n",
       "      <th>...</th>\n",
       "      <td>...</td>\n",
       "      <td>...</td>\n",
       "      <td>...</td>\n",
       "    </tr>\n",
       "    <tr>\n",
       "      <th>21</th>\n",
       "      <td>1960</td>\n",
       "      <td>11</td>\n",
       "      <td>315.00</td>\n",
       "    </tr>\n",
       "    <tr>\n",
       "      <th>22</th>\n",
       "      <td>1959</td>\n",
       "      <td>12</td>\n",
       "      <td>315.58</td>\n",
       "    </tr>\n",
       "    <tr>\n",
       "      <th>23</th>\n",
       "      <td>1960</td>\n",
       "      <td>12</td>\n",
       "      <td>316.19</td>\n",
       "    </tr>\n",
       "  </tbody>\n",
       "</table>\n",
       "<p>24 rows × 3 columns</p>\n",
       "</div>"
      ],
      "text/plain": [
       "      Yr month  average\n",
       "0   1959     1   315.62\n",
       "1   1960     1   316.43\n",
       "2   1959     2   316.38\n",
       "..   ...   ...      ...\n",
       "21  1960    11   315.00\n",
       "22  1959    12   315.58\n",
       "23  1960    12   316.19\n",
       "\n",
       "[24 rows x 3 columns]"
      ]
     },
     "execution_count": 5,
     "metadata": {},
     "output_type": "execute_result"
    }
   ],
   "source": [
    "co2_long = co2_wide.melt(id_vars=['Yr'],\n",
    "                         var_name='month',\n",
    "                         value_name='average')\n",
    "co2_long"
   ]
  },
  {
   "cell_type": "markdown",
   "id": "fbedcc3b-cbb3-49c7-b911-2477cc12cafe",
   "metadata": {},
   "source": [
    "Notice that the data has been recaptured in its original shape (although the rows are not in their original order). Wide-form data is more common when we expect readers to look at the data table itself, like in a economics magazine or news article. But long-form data is more useful for data analysis. For instance, co2_long lets us write short pandas code to group by either year or month, while the wide-form data makes it difficult to group by year."
   ]
  },
  {
   "cell_type": "markdown",
   "id": "127a5111-ac1c-4c8e-8dfc-3d9720a2fb48",
   "metadata": {},
   "source": [
    "# 9.5.1. Takeaways"
   ]
  },
  {
   "cell_type": "markdown",
   "id": "4bf92e55-4882-4f72-9f58-cdb149d3f711",
   "metadata": {},
   "source": [
    "This section covers several useful transformations for modifying structure, like subsetting, aggregating, and reshaping. The .melt() method is particularly useful for converting wide-form into long-form data. In the next section, we’ll combine the techniques from this chapter to wrangle the restaurant inspection data."
   ]
  }
 ],
 "metadata": {
  "kernelspec": {
   "display_name": "Python 3 (ipykernel)",
   "language": "python",
   "name": "python3"
  },
  "language_info": {
   "codemirror_mode": {
    "name": "ipython",
    "version": 3
   },
   "file_extension": ".py",
   "mimetype": "text/x-python",
   "name": "python",
   "nbconvert_exporter": "python",
   "pygments_lexer": "ipython3",
   "version": "3.9.12"
  }
 },
 "nbformat": 4,
 "nbformat_minor": 5
}
