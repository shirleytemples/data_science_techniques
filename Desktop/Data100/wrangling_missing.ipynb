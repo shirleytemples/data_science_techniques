{
 "cells": [
  {
   "cell_type": "code",
   "execution_count": 1,
   "id": "b7479113-b5df-4ff1-be33-c79fde54a754",
   "metadata": {},
   "outputs": [],
   "source": [
    "# Reference: https://jupyterbook.org/interactive/hiding.html\n",
    "# Use {hide, remove}-{input, output, cell} tags to hiding content\n",
    "\n",
    "import numpy as np\n",
    "import matplotlib.pyplot as plt\n",
    "import pandas as pd\n",
    "import seaborn as sns\n",
    "%matplotlib inline\n",
    "import ipywidgets as widgets\n",
    "from ipywidgets import interact, interactive, fixed, interact_manual\n",
    "from IPython.display import display\n",
    "#import myst_nb\n",
    "\n",
    "sns.set()\n",
    "sns.set_context('talk')\n",
    "np.set_printoptions(threshold=20, precision=2, suppress=True)\n",
    "pd.set_option('display.max_rows', 7)\n",
    "pd.set_option('display.max_columns', 8)\n",
    "#pd.set_option('precision', 2)\n",
    "# This option stops scientific notation for pandas\n",
    "# pd.set_option('display.float_format', '{:.2f}'.format)\n",
    "\n",
    "def display_df(df, rows=pd.options.display.max_rows,\n",
    "               cols=pd.options.display.max_columns):\n",
    "    with pd.option_context('display.max_rows', rows,\n",
    "                           'display.max_columns', cols):\n",
    "        display(df)\n"
   ]
  },
  {
   "cell_type": "code",
   "execution_count": 2,
   "id": "906275ea-5e7a-4063-a389-7f71994ccaf6",
   "metadata": {},
   "outputs": [],
   "source": [
    "# businesses\n",
    "bus = pd.read_csv('data/businesses.csv', encoding='ISO-8859-1')"
   ]
  },
  {
   "cell_type": "markdown",
   "id": "b71b52ab-dc80-4182-b445-bcaf049d019b",
   "metadata": {},
   "source": [
    "# 9.3. Missing Values and Records"
   ]
  },
  {
   "cell_type": "markdown",
   "id": "826ff890-6991-47fe-964d-8984abf1911a",
   "metadata": {},
   "source": [
    "In Section 2.5, we considered the potential problems when the population and the access frame are not in alignment, when we can’t access everyone we want to study. We also described problems when someone refuses to participate in the study. In these cases, entire records/observations are missing, and we discussed the kinds of bias that can occur due to missing records. If nonrespondents differ in critical ways from respondents or if the nonresponse rate is not negligible, then our analysis may be seriously flawed. The example of Section 3.2 showed that increasing the sample size without addressing nonresponse does not reduce nonresponse bias. Also in that section, we discussed ways to prevent nonresponse. These preventive measures include using incentives to encourage response, keeping surveys short, writing clear questions, training interviewers, and investing in extensive follow up procedures. Unfortunately, some amount of nonresponse is unavoidable.\n",
    "\n",
    "After nonresponse has occurred, it is sometimes possible to use models to predict the missing data. But, predicting missing observations is never as good as observing them in the first place. Records are missing completely at random when the chance that a unit responds to a survey does not depend on what is being measured or on the sampling design. For example, if someone accidentally breaks the laboratory equipment at Manua Loa and CO2 is not recorded for a day, there is no reason to think that the level of CO2 that day had something to do with the lost measurements.\n",
    "\n",
    "At other times, we consider records missing at random given covariates when the nonresponse depends only on observed features and not on the main response. For example, an ER visit in the DAWN survey would be missing at random given covariates if, say, the nonresponse rate was only dependent on race or sex (and not on anything else). In these limited cases, the observed data can be weighted to accommodate for nonresponse.\n",
    "\n",
    "When a record is not entirely missing, but a particular field in a record is unavailable, we have nonresponse at the field-level. Some datasets use a special coding to signify that the information is missing. For example, Mauna Loa used -99.99 to indicate a missing CO2 measurement. We found only 7 of these values among 738 rows in the table. In the Mauna Loa case, we showed that these missing values have little impact on the analysis (Section 9.1).\n",
    "\n",
    "In some surveys, missing information is further categorized as to whether the respondent refused to answer, was unsure of the answer, or the interviewer didn’t ask the question. Each of these types of missing values is recorded using a different value. For example, many questions in the DAWN survey use a code of -7 for not applicable, -8 for not documented, and -9 for missing 1. Codings such as these can help us further refine our study of nonresponse."
   ]
  },
  {
   "cell_type": "markdown",
   "id": "0dfd2312-5fa3-4c40-b7d8-97b899baa9cc",
   "metadata": {},
   "source": [
    "## 9.3.1. Imputing Missing Values"
   ]
  },
  {
   "cell_type": "markdown",
   "id": "2d4ea38b-1a64-4406-b1dc-33cf5c6fcf64",
   "metadata": {},
   "source": [
    "At times, we substitute a reasonable value for missing ones to create a “clean” data frame. This process is called imputation. Some common approaches for imputing values are deductive, mean, and hot-deck imputation.\n",
    "\n",
    "In deductive imputation, we fill in a value through logical relations. For example, below are rows in the business data frame for San Francisco restaurant inspections. Their zip codes are erroneously marked as “Ca” and latitude and longitude are missing. We can look up the address on the USPS Website to get the correct zip code and we can use Google Maps to find the latitude and longitude of the restaurant to fill in these missing values."
   ]
  },
  {
   "cell_type": "code",
   "execution_count": 3,
   "id": "5dc1a514-4476-4a07-94b2-b35eca0db9d6",
   "metadata": {},
   "outputs": [
    {
     "data": {
      "text/html": [
       "<div>\n",
       "<style scoped>\n",
       "    .dataframe tbody tr th:only-of-type {\n",
       "        vertical-align: middle;\n",
       "    }\n",
       "\n",
       "    .dataframe tbody tr th {\n",
       "        vertical-align: top;\n",
       "    }\n",
       "\n",
       "    .dataframe thead th {\n",
       "        text-align: right;\n",
       "    }\n",
       "</style>\n",
       "<table border=\"1\" class=\"dataframe\">\n",
       "  <thead>\n",
       "    <tr style=\"text-align: right;\">\n",
       "      <th></th>\n",
       "      <th>business_id</th>\n",
       "      <th>name</th>\n",
       "      <th>address</th>\n",
       "      <th>city</th>\n",
       "      <th>...</th>\n",
       "      <th>postal_code</th>\n",
       "      <th>latitude</th>\n",
       "      <th>longitude</th>\n",
       "      <th>phone_number</th>\n",
       "    </tr>\n",
       "  </thead>\n",
       "  <tbody>\n",
       "    <tr>\n",
       "      <th>5480</th>\n",
       "      <td>88139</td>\n",
       "      <td>TACOLICIOUS</td>\n",
       "      <td>2250 CHESTNUT ST</td>\n",
       "      <td>San Francisco</td>\n",
       "      <td>...</td>\n",
       "      <td>Ca</td>\n",
       "      <td>NaN</td>\n",
       "      <td>NaN</td>\n",
       "      <td>+14156496077</td>\n",
       "    </tr>\n",
       "  </tbody>\n",
       "</table>\n",
       "<p>1 rows × 9 columns</p>\n",
       "</div>"
      ],
      "text/plain": [
       "      business_id         name            address           city  ...  \\\n",
       "5480        88139  TACOLICIOUS  2250 CHESTNUT ST   San Francisco  ...   \n",
       "\n",
       "     postal_code latitude  longitude  phone_number  \n",
       "5480          Ca      NaN        NaN  +14156496077  \n",
       "\n",
       "[1 rows x 9 columns]"
      ]
     },
     "execution_count": 3,
     "metadata": {},
     "output_type": "execute_result"
    }
   ],
   "source": [
    "bus[bus['postal_code'] == \"Ca\"]"
   ]
  },
  {
   "cell_type": "markdown",
   "id": "5e5f4410-850d-4658-b483-c84431a276fc",
   "metadata": {},
   "source": [
    "Mean imputation uses an average value from rows in the dataset that have values. As a simple example, if a dataset on test scores has a missing value, mean imputation could fill in the missing value using the overall mean test score. A key issue with mean imputation is that the variability in the imputed feature will be smaller because the feature now has values that are identical to the mean. This affects later analysis if not handled properly—for instance, confidence intervals will be smaller than they should be.\n",
    "\n",
    "Hot-deck imputation uses a chance process to select a value at random from rows that have values. As a simple example, hot-deck imputation could fill in missing test scores by randomly choosing another test score in the dataset. A potential problem with hot-deck imputation is that the strength of a relationship might decline because we have added randomness to the values.\n",
    "\n",
    "For mean and hot-deck imputation, we often impute values based on others in the dataset who are similar in other features to the nonrespondents. More sophisticated imputation techniques use nearest-neighbor methods to find similar subgroups of records and others use regression techniques to predict the missing value [Little and Rubin, 2019].\n",
    "\n",
    "In any of these types of imputation, we should create a new feature that contains the altered data or a new feature to indicate whether or not the response in the original feature has been imputed."
   ]
  },
  {
   "cell_type": "code",
   "execution_count": null,
   "id": "3fa3013d-86c1-40e4-97a4-128e5fe70f82",
   "metadata": {},
   "outputs": [],
   "source": []
  }
 ],
 "metadata": {
  "kernelspec": {
   "display_name": "Python 3 (ipykernel)",
   "language": "python",
   "name": "python3"
  },
  "language_info": {
   "codemirror_mode": {
    "name": "ipython",
    "version": 3
   },
   "file_extension": ".py",
   "mimetype": "text/x-python",
   "name": "python",
   "nbconvert_exporter": "python",
   "pygments_lexer": "ipython3",
   "version": "3.9.12"
  }
 },
 "nbformat": 4,
 "nbformat_minor": 5
}
