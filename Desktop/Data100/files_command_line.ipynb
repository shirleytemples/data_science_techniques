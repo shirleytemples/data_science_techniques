{
 "cells": [
  {
   "cell_type": "code",
   "execution_count": 1,
   "id": "aa0fb43d-734b-41ed-8d4d-1076e6576c59",
   "metadata": {},
   "outputs": [],
   "source": [
    "import sys\n",
    "import os"
   ]
  },
  {
   "cell_type": "markdown",
   "id": "e108fe11-3976-4013-bc4a-756228e1942a",
   "metadata": {},
   "source": [
    "# 8.4. The Shell and Command Line Tools¶\n"
   ]
  },
  {
   "cell_type": "markdown",
   "id": "c1b80b45-ca83-49e0-9d41-33b00b2021dd",
   "metadata": {},
   "source": [
    "Nearly all computers provide access to a shell interpreter, such as sh or bash. Shell interpreters typically perform operations on the files on a computer, and they have their own language, syntax, and built-in commands.\n",
    "\n",
    "We use the term command-line interface (CLI) tools to refer to the commands available in a shell interpreter. Although we only cover a few CLI tools in this section, there are many useful CLI tools that enable all sorts of operations on files. For instance, running the following command in the bash shell produces a list of all the files in the figures/ folder along with their file sizes:"
   ]
  },
  {
   "cell_type": "markdown",
   "id": "940766e6-5608-485a-bef2-27380d34e6b6",
   "metadata": {},
   "source": [
    "ls -l -h figures/"
   ]
  },
  {
   "cell_type": "markdown",
   "id": "ecf98957-0785-4e3d-a9c2-1b6601d1de54",
   "metadata": {},
   "source": [
    "The basic syntax for a shell command is:"
   ]
  },
  {
   "cell_type": "markdown",
   "id": "2ae26c53-637d-46ce-ae0f-31ec3f77680f",
   "metadata": {},
   "source": [
    "command -options arg1 arg2"
   ]
  },
  {
   "cell_type": "markdown",
   "id": "549a8791-2e1c-4c49-b65d-efeabd1f0475",
   "metadata": {},
   "source": [
    "CLI tools often take one or more arguments, similar to how Python functions take arguments. In the shell, we wrap arguments with spaces, not with parentheses and commas. The arguments appear at the end of the command line, and they are usually the name of a file or some text. In the ls example above, the argument to ls is figures/. Additionally, CLI tools support flags that provide additional options. These flags are specified immediately following the command name using a dash as a delimiter. In the ls example above, we provided the flags -l (to provide extra information about each file) and -h (to provide filesizes in a more human-readable format). Many commands have default arguments and options, and the man command prints a list of acceptable options, examples, and defaults for any command. For example, man ls describes the 30 or so flags available for ls."
   ]
  },
  {
   "cell_type": "markdown",
   "id": "2e3e422f-352e-4c46-8db5-9da0847555cb",
   "metadata": {},
   "source": [
    ":::{note}\n",
    "\n",
    "All CLI tools we cover in this book are specific to the sh shell interpreter, the default interpreter for Jupyter installations on MacOS and Linux systems at the time of writing. Windows systems have a different interpreter and the commands shown in the book may not run on Windows, although Windows gives access to a sh interpreter through its Linux Subsystem.\n",
    "\n",
    "The commands in this section can be run in a terminal application, or through a terminal opened by Jupyter.\n",
    "\n",
    ":::\n",
    "\n"
   ]
  },
  {
   "cell_type": "markdown",
   "id": "4699291c-380d-4bb0-8968-de1c4250e6a7",
   "metadata": {},
   "source": [
    "We begin with an exploration of the file system for this chapter, using the ls tool."
   ]
  },
  {
   "cell_type": "raw",
   "id": "65eed36c-66ab-4a02-bdc8-cd9e44491956",
   "metadata": {},
   "source": [
    "ls\n",
    "\n",
    "data                            wrangling_granularity.ipynb\n",
    "figures                         wrangling_intro.ipynb                      \n",
    "wrangling_command_line.ipynb    wrangling_structure.ipynb\n",
    "wrangling_datasets.ipynb        wrangling_summary.ipynb\n",
    "wrangling_formats.ipynb"
   ]
  },
  {
   "cell_type": "markdown",
   "id": "19bc5271-1c8b-4def-abf1-dc678cf320f2",
   "metadata": {},
   "source": [
    "To dive deeper and list the files in the data/ directory, we provide the directory name as an argument to ls."
   ]
  },
  {
   "cell_type": "raw",
   "id": "6ca166b3-bd3a-4cf0-b0cb-b302b132fe0e",
   "metadata": {},
   "source": [
    "ls -l -L -h data/"
   ]
  },
  {
   "cell_type": "raw",
   "id": "362a4dbe-c93e-493f-8bff-7f0cbc3ec79c",
   "metadata": {},
   "source": [
    "total 556664\n",
    "-rw-r--r--  1 nolan  staff   267M Dec 10 14:03 DAWN-Data.txt\n",
    "-rw-r--r--  1 nolan  staff   645K Dec 10 14:01 businesses.csv\n",
    "-rw-r--r--  1 nolan  staff    50K Jan 22 13:09 co2_mm_mlo.txt\n",
    "-rw-r--r--  1 nolan  staff   455K Dec 10 14:01 inspections.csv\n",
    "-rw-r--r--  1 nolan  staff   120B Dec 10 14:01 legend.csv\n",
    "-rw-r--r--  1 nolan  staff   3.6M Dec 10 14:01 violations.csv"
   ]
  },
  {
   "cell_type": "markdown",
   "id": "d1fb2459-f644-4e54-b7e6-dc820e74a83c",
   "metadata": {},
   "source": [
    "We also added the -l flag to the command, which specifies the format of the output to have information about each file on a separate line along with additional metadata. In particular, the fifth column of the listing shows the file size. To make the file sizes more readable, we used the -h flag. When we have multiple simple option flags like -l, -h, and -L, we can combine them together as a shorthand:"
   ]
  },
  {
   "cell_type": "code",
   "execution_count": 2,
   "id": "d27b0026-a73f-4e46-ba61-f472e75eb506",
   "metadata": {},
   "outputs": [
    {
     "name": "stdout",
     "output_type": "stream",
     "text": [
      "total 701008\n",
      "-rw-r--r--@ 1 li2  _lpoperator   267M Jun 15 00:15 DAWN-Data.txt\n",
      "-rw-r--r--  1 li2  _lpoperator    33M Jun  1 17:06 babynames.csv\n",
      "-rw-r--r--@ 1 li2  _lpoperator    41M Jun  6 22:39 babynames.db\n",
      "-rw-r--r--@ 1 li2  _lpoperator   645K Jun 15 00:22 businesses.csv\n",
      "-rw-r--r--@ 1 li2  _lpoperator   455K Jun 14 23:52 inspections.csv\n",
      "-rw-r--r--  1 li2  _lpoperator   391B Jun  1 17:06 nyt_names.csv\n"
     ]
    }
   ],
   "source": [
    "ls -lLh data/"
   ]
  },
  {
   "cell_type": "markdown",
   "id": "be371432-5cf8-42ee-af52-acf0f0f27258",
   "metadata": {},
   "source": [
    ":::{note}\n",
    "\n",
    "When working with datasets in this book, our code will often use an additional -L flag for ls and other CLI tools, such as du. We do this because we set up the datasets in our book using shortcuts (called symlinks). Usually, your code won't need the -L flag unless you're working with symlinks too.\n",
    "\n",
    ":::"
   ]
  },
  {
   "cell_type": "code",
   "execution_count": null,
   "id": "d4fd8528-6738-413a-b70a-1c422cae628e",
   "metadata": {},
   "outputs": [],
   "source": []
  }
 ],
 "metadata": {
  "kernelspec": {
   "display_name": "Python 3 (ipykernel)",
   "language": "python",
   "name": "python3"
  },
  "language_info": {
   "codemirror_mode": {
    "name": "ipython",
    "version": 3
   },
   "file_extension": ".py",
   "mimetype": "text/x-python",
   "name": "python",
   "nbconvert_exporter": "python",
   "pygments_lexer": "ipython3",
   "version": "3.9.12"
  }
 },
 "nbformat": 4,
 "nbformat_minor": 5
}
