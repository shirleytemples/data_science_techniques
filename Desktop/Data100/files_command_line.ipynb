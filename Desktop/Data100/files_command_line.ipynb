{
 "cells": [
  {
   "cell_type": "code",
   "execution_count": 1,
   "id": "aa0fb43d-734b-41ed-8d4d-1076e6576c59",
   "metadata": {},
   "outputs": [],
   "source": [
    "import sys\n",
    "import os"
   ]
  },
  {
   "cell_type": "markdown",
   "id": "e108fe11-3976-4013-bc4a-756228e1942a",
   "metadata": {},
   "source": [
    "# 8.4. The Shell and Command Line Tools¶\n"
   ]
  },
  {
   "cell_type": "markdown",
   "id": "c1b80b45-ca83-49e0-9d41-33b00b2021dd",
   "metadata": {},
   "source": [
    "Nearly all computers provide access to a shell interpreter, such as sh or bash. Shell interpreters typically perform operations on the files on a computer, and they have their own language, syntax, and built-in commands.\n",
    "\n",
    "We use the term command-line interface (CLI) tools to refer to the commands available in a shell interpreter. Although we only cover a few CLI tools in this section, there are many useful CLI tools that enable all sorts of operations on files. For instance, running the following command in the bash shell produces a list of all the files in the figures/ folder along with their file sizes:"
   ]
  },
  {
   "cell_type": "markdown",
   "id": "940766e6-5608-485a-bef2-27380d34e6b6",
   "metadata": {},
   "source": [
    "ls -l -h figures/"
   ]
  },
  {
   "cell_type": "markdown",
   "id": "ecf98957-0785-4e3d-a9c2-1b6601d1de54",
   "metadata": {},
   "source": [
    "The basic syntax for a shell command is:"
   ]
  },
  {
   "cell_type": "markdown",
   "id": "2ae26c53-637d-46ce-ae0f-31ec3f77680f",
   "metadata": {},
   "source": [
    "command -options arg1 arg2"
   ]
  },
  {
   "cell_type": "markdown",
   "id": "549a8791-2e1c-4c49-b65d-efeabd1f0475",
   "metadata": {},
   "source": [
    "CLI tools often take one or more arguments, similar to how Python functions take arguments. In the shell, we wrap arguments with spaces, not with parentheses and commas. The arguments appear at the end of the command line, and they are usually the name of a file or some text. In the ls example above, the argument to ls is figures/. Additionally, CLI tools support flags that provide additional options. These flags are specified immediately following the command name using a dash as a delimiter. In the ls example above, we provided the flags -l (to provide extra information about each file) and -h (to provide filesizes in a more human-readable format). Many commands have default arguments and options, and the man command prints a list of acceptable options, examples, and defaults for any command. For example, man ls describes the 30 or so flags available for ls."
   ]
  },
  {
   "cell_type": "markdown",
   "id": "2e3e422f-352e-4c46-8db5-9da0847555cb",
   "metadata": {},
   "source": [
    ":::{note}\n",
    "\n",
    "All CLI tools we cover in this book are specific to the sh shell interpreter, the default interpreter for Jupyter installations on MacOS and Linux systems at the time of writing. Windows systems have a different interpreter and the commands shown in the book may not run on Windows, although Windows gives access to a sh interpreter through its Linux Subsystem.\n",
    "\n",
    "The commands in this section can be run in a terminal application, or through a terminal opened by Jupyter.\n",
    "\n",
    ":::\n",
    "\n"
   ]
  },
  {
   "cell_type": "markdown",
   "id": "4699291c-380d-4bb0-8968-de1c4250e6a7",
   "metadata": {},
   "source": [
    "We begin with an exploration of the file system for this chapter, using the ls tool."
   ]
  },
  {
   "cell_type": "raw",
   "id": "65eed36c-66ab-4a02-bdc8-cd9e44491956",
   "metadata": {},
   "source": [
    "ls\n",
    "\n",
    "data                            wrangling_granularity.ipynb\n",
    "figures                         wrangling_intro.ipynb                      \n",
    "wrangling_command_line.ipynb    wrangling_structure.ipynb\n",
    "wrangling_datasets.ipynb        wrangling_summary.ipynb\n",
    "wrangling_formats.ipynb"
   ]
  },
  {
   "cell_type": "markdown",
   "id": "19bc5271-1c8b-4def-abf1-dc678cf320f2",
   "metadata": {},
   "source": [
    "To dive deeper and list the files in the data/ directory, we provide the directory name as an argument to ls."
   ]
  },
  {
   "cell_type": "raw",
   "id": "6ca166b3-bd3a-4cf0-b0cb-b302b132fe0e",
   "metadata": {},
   "source": [
    "ls -l -L -h data/"
   ]
  },
  {
   "cell_type": "raw",
   "id": "362a4dbe-c93e-493f-8bff-7f0cbc3ec79c",
   "metadata": {},
   "source": [
    "total 556664\n",
    "-rw-r--r--  1 nolan  staff   267M Dec 10 14:03 DAWN-Data.txt\n",
    "-rw-r--r--  1 nolan  staff   645K Dec 10 14:01 businesses.csv\n",
    "-rw-r--r--  1 nolan  staff    50K Jan 22 13:09 co2_mm_mlo.txt\n",
    "-rw-r--r--  1 nolan  staff   455K Dec 10 14:01 inspections.csv\n",
    "-rw-r--r--  1 nolan  staff   120B Dec 10 14:01 legend.csv\n",
    "-rw-r--r--  1 nolan  staff   3.6M Dec 10 14:01 violations.csv"
   ]
  },
  {
   "cell_type": "markdown",
   "id": "d1fb2459-f644-4e54-b7e6-dc820e74a83c",
   "metadata": {},
   "source": [
    "We also added the -l flag to the command, which specifies the format of the output to have information about each file on a separate line along with additional metadata. In particular, the fifth column of the listing shows the file size. To make the file sizes more readable, we used the -h flag. When we have multiple simple option flags like -l, -h, and -L, we can combine them together as a shorthand:"
   ]
  },
  {
   "cell_type": "code",
   "execution_count": 2,
   "id": "d27b0026-a73f-4e46-ba61-f472e75eb506",
   "metadata": {},
   "outputs": [
    {
     "name": "stdout",
     "output_type": "stream",
     "text": [
      "total 701008\n",
      "-rw-r--r--@ 1 li2  _lpoperator   267M Jun 15 00:15 DAWN-Data.txt\n",
      "-rw-r--r--  1 li2  _lpoperator    33M Jun  1 17:06 babynames.csv\n",
      "-rw-r--r--@ 1 li2  _lpoperator    41M Jun  6 22:39 babynames.db\n",
      "-rw-r--r--@ 1 li2  _lpoperator   645K Jun 15 00:22 businesses.csv\n",
      "-rw-r--r--@ 1 li2  _lpoperator   455K Jun 14 23:52 inspections.csv\n",
      "-rw-r--r--  1 li2  _lpoperator   391B Jun  1 17:06 nyt_names.csv\n"
     ]
    }
   ],
   "source": [
    "ls -lLh data/"
   ]
  },
  {
   "cell_type": "markdown",
   "id": "be371432-5cf8-42ee-af52-acf0f0f27258",
   "metadata": {},
   "source": [
    ":::{note}\n",
    "\n",
    "When working with datasets in this book, our code will often use an additional -L flag for ls and other CLI tools, such as du. We do this because we set up the datasets in our book using shortcuts (called symlinks). Usually, your code won't need the -L flag unless you're working with symlinks too.\n",
    "\n",
    ":::"
   ]
  },
  {
   "cell_type": "markdown",
   "id": "8daa8ff2-a4b1-4e61-bda2-613ebbec1833",
   "metadata": {},
   "source": [
    "Other CLI tools for checking the size of files, are wc and du. The command wc (short for wordcount) provides helpful information about a file's size in terms of the number of lines, words, and characters in the file."
   ]
  },
  {
   "cell_type": "raw",
   "id": "2c86dcde-ca47-4333-b711-9a84a97c3a68",
   "metadata": {},
   "source": [
    "wc data/DAWN-Data.txt"
   ]
  },
  {
   "cell_type": "raw",
   "id": "76e3baa5-bf8d-429f-9768-56900c301e38",
   "metadata": {},
   "source": [
    "229211 22695570 280095842 data/DAWN-Data.txt"
   ]
  },
  {
   "cell_type": "markdown",
   "id": "f5a65580-d500-4148-8f8f-d0f706c6a2d5",
   "metadata": {},
   "source": [
    "We can see from the output that DAWN-Data.txt has 229211 lines and 280095842 characters. (The middle value is the file's word count, which is useful for text but not very useful for files containing data.)"
   ]
  },
  {
   "cell_type": "markdown",
   "id": "0b9aebb4-2341-4023-b3d9-44ea72dfc5f7",
   "metadata": {},
   "source": [
    "The ls tool does not calculate the cumulative size of the contents of a folder. To properly calculate the total size of a folder, including the files in the folder, we use du (short for disk usage). By default, the du tool shows the size in units called blocks."
   ]
  },
  {
   "cell_type": "raw",
   "id": "5d9fd8dc-a53c-4a42-910d-aab3cc630353",
   "metadata": {},
   "source": [
    "du -L data/\n",
    "556664  data/"
   ]
  },
  {
   "cell_type": "markdown",
   "id": "981b12f1-261d-48ef-8fc7-671a5d606d62",
   "metadata": {},
   "source": [
    "We commonly also add the -s flag to du to show the file sizes for both files and folders and the -h flag to display quantities in the standard KiB, MiB, GiB format. The asterisk in data/* below tells du to show the size of every item in the data folder."
   ]
  },
  {
   "cell_type": "raw",
   "id": "70e31b69-eb5c-439c-8a60-35e08dbd9f0d",
   "metadata": {},
   "source": [
    "du -Lsh data/*"
   ]
  },
  {
   "cell_type": "raw",
   "id": "a8c64577-02da-4b2f-b082-abb3353fea31",
   "metadata": {},
   "source": [
    "267M    data/DAWN-Data.txt\n",
    "648K    data/businesses.csv\n",
    " 52K    data/co2_mm_mlo.txt\n",
    "456K    data/inspections.csv\n",
    "4.0K    data/legend.csv\n",
    "3.6M    data/violations.csv"
   ]
  },
  {
   "cell_type": "markdown",
   "id": "a30f3b4a-41bd-4cc8-b8c7-961a2b0da2db",
   "metadata": {},
   "source": [
    "To check the formatting of a file, we can examine the first few lines with the head command, or the last few lines with tail. These CLIs are very useful for peeking at a file's contents to determine whether it's formatted as a CSV, TSV, etc. As an example, let's look at the inspections.csv file.\n",
    "\n"
   ]
  },
  {
   "cell_type": "raw",
   "id": "6007151d-ff25-4473-a599-d4b2a7732e9c",
   "metadata": {},
   "source": [
    "head data/inspections.csv"
   ]
  },
  {
   "cell_type": "raw",
   "id": "5adfb2cd-1e5b-458d-950c-61921a3591a4",
   "metadata": {},
   "source": [
    "\"business_id\",\"score\",\"date\",\"type\"\n",
    "19,\"94\",\"20160513\",\"routine\"\n",
    "19,\"94\",\"20171211\",\"routine\"\n",
    "24,\"98\",\"20171101\",\"routine\"\n",
    "24,\"98\",\"20161005\",\"routine\"\n",
    "24,\"96\",\"20160311\",\"routine\"\n",
    "31,\"98\",\"20151204\",\"routine\"\n",
    "45,\"78\",\"20160104\",\"routine\"\n",
    "45,\"88\",\"20170307\",\"routine\"\n",
    "45,\"85\",\"20170914\",\"routine\""
   ]
  },
  {
   "cell_type": "markdown",
   "id": "37c3a234-6583-4d49-b021-aba6cc8585c6",
   "metadata": {},
   "source": [
    "By default, head displays the first 10 lines of a file. If we want to show, say, 6 lines, then we add the option -n 6 to our command (or just -6 for short).\n",
    "\n",
    "We can print the entire file’s contents using the cat command. However, you should take care when using this command, as printing a large file can cause the browser to crash. The legend.csv file is small, and we can use cat to concatenate and print its contents."
   ]
  },
  {
   "cell_type": "raw",
   "id": "2aec6724-bfd1-4532-b3e2-961ed57e6452",
   "metadata": {},
   "source": [
    "cat data/legend.csv"
   ]
  },
  {
   "cell_type": "raw",
   "id": "71436d5d-3960-4238-8579-e96c27adc09b",
   "metadata": {},
   "source": [
    "\"Minimum_Score\",\"Maximum_Score\",\"Description\"\n",
    "0,70,\"Poor\"\n",
    "71,85,\"Needs Improvement\"\n",
    "86,90,\"Adequate\"\n",
    "91,100,\"Good\""
   ]
  },
  {
   "cell_type": "markdown",
   "id": "f77ecd43-f0a3-44ec-8709-3412473cfda8",
   "metadata": {},
   "source": [
    "In many cases, using head or tail alone gives us a good enough sense of the file structure to proceed with loading it into a data frame.\n",
    "\n",
    "Finally, the file command can help use determine a file's encoding."
   ]
  },
  {
   "cell_type": "raw",
   "id": "ded41fd1-7999-4268-9746-fe7584562402",
   "metadata": {},
   "source": [
    "file -I data/*"
   ]
  },
  {
   "cell_type": "raw",
   "id": "8f281d47-4d95-4ff6-9902-289477b6c805",
   "metadata": {},
   "source": [
    "data/DAWN-Data.txt:   text/plain; charset=us-ascii\n",
    "data/businesses.csv:  application/csv; charset=iso-8859-1\n",
    "data/co2_mm_mlo.txt:  text/plain; charset=us-ascii\n",
    "data/inspections.csv: application/csv; charset=us-ascii\n",
    "data/legend.csv:      application/csv; charset=us-ascii\n",
    "data/violations.csv:  application/csv; charset=us-ascii"
   ]
  },
  {
   "cell_type": "markdown",
   "id": "30065d13-8cba-4137-8e04-d76776a58ae8",
   "metadata": {},
   "source": [
    "We see (again) that all of the files are ASCII, except for businesses.csv which has an ISO-8859-1 encoding."
   ]
  },
  {
   "cell_type": "markdown",
   "id": "44801e50-7622-4e59-b132-cf2e3ce11a10",
   "metadata": {},
   "source": [
    ":::{note}\n",
    "\n",
    "Commonly, we open a terminal program to start a shell interpreter. However, Jupyter Notebooks provide a convenience: if a line of code in a Python code cell is prefixed with the ! character, the line will go directly to the system’s shell interpreter. For example, running !ls in a Python cell lists the files in the current directory.\n",
    "\n",
    ":::\n",
    "\n",
    "In this section, we have introduced a few command-line tools: **ls, du, wc, head, tail, cat** and **file**. These tools help us understand the format and structure of data files. We can also use shell tools to ensure that the data file is small enough to read into pandas and to get the correct encoding. Once a file is read into pandas, we have a DataFrame and can proceed with analysis.\n",
    "\n",
    "Shell commands give us a programmatic way to work with files, rather than a point-and-click \"manual\" approach. They are useful for:"
   ]
  },
  {
   "cell_type": "raw",
   "id": "6fb8ae65-56f7-4e7f-b770-ab828cd65e2f",
   "metadata": {},
   "source": [
    "    *Documentation: if you need to record what you did\n",
    "    *Error reduction: if you want to reduce typographical errors and other simple but potentially harmful mistakes\n",
    "    *Reproducibility: if you need to repeat the same process in the future or you plan to share your process with others you have a record of your actions\n",
    "    Volume: if you have many repetitive operations to perform, the size of the file you are working with is large, or you need to perform things quickly, CLI tools can help."
   ]
  }
 ],
 "metadata": {
  "kernelspec": {
   "display_name": "Python 3 (ipykernel)",
   "language": "python",
   "name": "python3"
  },
  "language_info": {
   "codemirror_mode": {
    "name": "ipython",
    "version": 3
   },
   "file_extension": ".py",
   "mimetype": "text/x-python",
   "name": "python",
   "nbconvert_exporter": "python",
   "pygments_lexer": "ipython3",
   "version": "3.9.12"
  }
 },
 "nbformat": 4,
 "nbformat_minor": 5
}
